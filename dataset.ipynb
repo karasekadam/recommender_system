{
 "cells": [
  {
   "cell_type": "code",
   "execution_count": 1,
   "metadata": {
    "ExecuteTime": {
     "end_time": "2024-05-07T08:31:28.847106Z",
     "start_time": "2024-05-07T08:31:28.828715400Z"
    }
   },
   "outputs": [
    {
     "ename": "ModuleNotFoundError",
     "evalue": "No module named 'polars'",
     "output_type": "error",
     "traceback": [
      "\u001B[1;31m---------------------------------------------------------------------------\u001B[0m",
      "\u001B[1;31mModuleNotFoundError\u001B[0m                       Traceback (most recent call last)",
      "Cell \u001B[1;32mIn[1], line 1\u001B[0m\n\u001B[1;32m----> 1\u001B[0m \u001B[38;5;28;01mimport\u001B[39;00m \u001B[38;5;21;01mpolars\u001B[39;00m \u001B[38;5;28;01mas\u001B[39;00m \u001B[38;5;21;01mpl\u001B[39;00m\n",
      "\u001B[1;31mModuleNotFoundError\u001B[0m: No module named 'polars'"
     ]
    }
   ],
   "source": [
    "import polars as pl"
   ]
  },
  {
   "cell_type": "code",
   "execution_count": 2,
   "metadata": {},
   "outputs": [],
   "source": [
    "test = pl.read_ndjson( \"otto/test.jsonl\" )"
   ]
  },
  {
   "cell_type": "code",
   "execution_count": 3,
   "metadata": {},
   "outputs": [
    {
     "data": {
      "text/html": [
       "<div><style>\n",
       ".dataframe > thead > tr,\n",
       ".dataframe > tbody > tr {\n",
       "  text-align: right;\n",
       "  white-space: pre-wrap;\n",
       "}\n",
       "</style>\n",
       "<small>shape: (6_928_123, 4)</small><table border=\"1\" class=\"dataframe\"><thead><tr><th>session</th><th>aid</th><th>ts</th><th>type</th></tr><tr><td>i64</td><td>i64</td><td>i64</td><td>str</td></tr></thead><tbody><tr><td>12899779</td><td>59625</td><td>1661724000278</td><td>&quot;clicks&quot;</td></tr><tr><td>12899780</td><td>1142000</td><td>1661724000378</td><td>&quot;clicks&quot;</td></tr><tr><td>12899780</td><td>582732</td><td>1661724058352</td><td>&quot;clicks&quot;</td></tr><tr><td>12899780</td><td>973453</td><td>1661724109199</td><td>&quot;clicks&quot;</td></tr><tr><td>12899780</td><td>736515</td><td>1661724136868</td><td>&quot;clicks&quot;</td></tr><tr><td>&hellip;</td><td>&hellip;</td><td>&hellip;</td><td>&hellip;</td></tr><tr><td>14571577</td><td>1141710</td><td>1662328774770</td><td>&quot;clicks&quot;</td></tr><tr><td>14571578</td><td>519105</td><td>1662328775009</td><td>&quot;clicks&quot;</td></tr><tr><td>14571579</td><td>739876</td><td>1662328775605</td><td>&quot;clicks&quot;</td></tr><tr><td>14571580</td><td>202353</td><td>1662328781067</td><td>&quot;clicks&quot;</td></tr><tr><td>14571581</td><td>1100210</td><td>1662328791563</td><td>&quot;clicks&quot;</td></tr></tbody></table></div>"
      ],
      "text/plain": [
       "shape: (6_928_123, 4)\n",
       "┌──────────┬─────────┬───────────────┬────────┐\n",
       "│ session  ┆ aid     ┆ ts            ┆ type   │\n",
       "│ ---      ┆ ---     ┆ ---           ┆ ---    │\n",
       "│ i64      ┆ i64     ┆ i64           ┆ str    │\n",
       "╞══════════╪═════════╪═══════════════╪════════╡\n",
       "│ 12899779 ┆ 59625   ┆ 1661724000278 ┆ clicks │\n",
       "│ 12899780 ┆ 1142000 ┆ 1661724000378 ┆ clicks │\n",
       "│ 12899780 ┆ 582732  ┆ 1661724058352 ┆ clicks │\n",
       "│ 12899780 ┆ 973453  ┆ 1661724109199 ┆ clicks │\n",
       "│ 12899780 ┆ 736515  ┆ 1661724136868 ┆ clicks │\n",
       "│ …        ┆ …       ┆ …             ┆ …      │\n",
       "│ 14571577 ┆ 1141710 ┆ 1662328774770 ┆ clicks │\n",
       "│ 14571578 ┆ 519105  ┆ 1662328775009 ┆ clicks │\n",
       "│ 14571579 ┆ 739876  ┆ 1662328775605 ┆ clicks │\n",
       "│ 14571580 ┆ 202353  ┆ 1662328781067 ┆ clicks │\n",
       "│ 14571581 ┆ 1100210 ┆ 1662328791563 ┆ clicks │\n",
       "└──────────┴─────────┴───────────────┴────────┘"
      ]
     },
     "execution_count": 3,
     "metadata": {},
     "output_type": "execute_result"
    }
   ],
   "source": [
    "test = test.explode( \"events\" ).unnest( \"events\" )\n",
    "test"
   ]
  },
  {
   "cell_type": "code",
   "execution_count": 4,
   "metadata": {},
   "outputs": [
    {
     "data": {
      "text/html": [
       "<div><style>\n",
       ".dataframe > thead > tr,\n",
       ".dataframe > tbody > tr {\n",
       "  text-align: right;\n",
       "  white-space: pre-wrap;\n",
       "}\n",
       "</style>\n",
       "<small>shape: (3,)</small><table border=\"1\" class=\"dataframe\"><thead><tr><th>type</th></tr><tr><td>str</td></tr></thead><tbody><tr><td>&quot;carts&quot;</td></tr><tr><td>&quot;orders&quot;</td></tr><tr><td>&quot;clicks&quot;</td></tr></tbody></table></div>"
      ],
      "text/plain": [
       "shape: (3,)\n",
       "Series: 'type' [str]\n",
       "[\n",
       "\t\"carts\"\n",
       "\t\"orders\"\n",
       "\t\"clicks\"\n",
       "]"
      ]
     },
     "execution_count": 4,
     "metadata": {},
     "output_type": "execute_result"
    }
   ],
   "source": [
    "test[\"type\"].unique()"
   ]
  },
  {
   "cell_type": "code",
   "execution_count": 5,
   "metadata": {},
   "outputs": [
    {
     "name": "stdout",
     "output_type": "stream",
     "text": [
      "Number of test events: 6_928_123\n"
     ]
    }
   ],
   "source": [
    "print( f'Number of test events: {test.shape[0]:_}' )"
   ]
  },
  {
   "cell_type": "code",
   "execution_count": 6,
   "metadata": {},
   "outputs": [
    {
     "name": "stdout",
     "output_type": "stream",
     "text": [
      "Number of unique sessions: 1_671_803\n",
      "Number of unique sessions with not only views event: 245_737\n"
     ]
    }
   ],
   "source": [
    "print( f'Number of unique sessions: {test[\"session\"].n_unique():_}' )\n",
    "print( f'Number of unique sessions with not only views event: {test.filter( pl.col(\"type\") != \"clicks\" )[\"session\"].n_unique():_}' )"
   ]
  },
  {
   "cell_type": "code",
   "execution_count": 7,
   "metadata": {},
   "outputs": [
    {
     "data": {
      "text/html": [
       "<div><style>\n",
       ".dataframe > thead > tr,\n",
       ".dataframe > tbody > tr {\n",
       "  text-align: right;\n",
       "  white-space: pre-wrap;\n",
       "}\n",
       "</style>\n",
       "<small>shape: (216_716_096, 4)</small><table border=\"1\" class=\"dataframe\"><thead><tr><th>session</th><th>aid</th><th>ts</th><th>type</th></tr><tr><td>i64</td><td>i64</td><td>i64</td><td>str</td></tr></thead><tbody><tr><td>0</td><td>1517085</td><td>1659304800025</td><td>&quot;clicks&quot;</td></tr><tr><td>0</td><td>1563459</td><td>1659304904511</td><td>&quot;clicks&quot;</td></tr><tr><td>0</td><td>1309446</td><td>1659367439426</td><td>&quot;clicks&quot;</td></tr><tr><td>0</td><td>16246</td><td>1659367719997</td><td>&quot;clicks&quot;</td></tr><tr><td>0</td><td>1781822</td><td>1659367871344</td><td>&quot;clicks&quot;</td></tr><tr><td>&hellip;</td><td>&hellip;</td><td>&hellip;</td><td>&hellip;</td></tr><tr><td>12899776</td><td>1737908</td><td>1661723987073</td><td>&quot;clicks&quot;</td></tr><tr><td>12899777</td><td>384045</td><td>1661723976974</td><td>&quot;clicks&quot;</td></tr><tr><td>12899777</td><td>384045</td><td>1661723986800</td><td>&quot;clicks&quot;</td></tr><tr><td>12899778</td><td>561560</td><td>1661723983611</td><td>&quot;clicks&quot;</td></tr><tr><td>12899778</td><td>32070</td><td>1661723994936</td><td>&quot;clicks&quot;</td></tr></tbody></table></div>"
      ],
      "text/plain": [
       "shape: (216_716_096, 4)\n",
       "┌──────────┬─────────┬───────────────┬────────┐\n",
       "│ session  ┆ aid     ┆ ts            ┆ type   │\n",
       "│ ---      ┆ ---     ┆ ---           ┆ ---    │\n",
       "│ i64      ┆ i64     ┆ i64           ┆ str    │\n",
       "╞══════════╪═════════╪═══════════════╪════════╡\n",
       "│ 0        ┆ 1517085 ┆ 1659304800025 ┆ clicks │\n",
       "│ 0        ┆ 1563459 ┆ 1659304904511 ┆ clicks │\n",
       "│ 0        ┆ 1309446 ┆ 1659367439426 ┆ clicks │\n",
       "│ 0        ┆ 16246   ┆ 1659367719997 ┆ clicks │\n",
       "│ 0        ┆ 1781822 ┆ 1659367871344 ┆ clicks │\n",
       "│ …        ┆ …       ┆ …             ┆ …      │\n",
       "│ 12899776 ┆ 1737908 ┆ 1661723987073 ┆ clicks │\n",
       "│ 12899777 ┆ 384045  ┆ 1661723976974 ┆ clicks │\n",
       "│ 12899777 ┆ 384045  ┆ 1661723986800 ┆ clicks │\n",
       "│ 12899778 ┆ 561560  ┆ 1661723983611 ┆ clicks │\n",
       "│ 12899778 ┆ 32070   ┆ 1661723994936 ┆ clicks │\n",
       "└──────────┴─────────┴───────────────┴────────┘"
      ]
     },
     "execution_count": 7,
     "metadata": {},
     "output_type": "execute_result"
    }
   ],
   "source": [
    "train = pl.read_ndjson( \"/var/tmp/xgregor1/data/otto/train.jsonl\" )\n",
    "train = train.explode( \"events\" ).unnest( \"events\" )\n",
    "\n",
    "train"
   ]
  },
  {
   "cell_type": "code",
   "execution_count": 8,
   "metadata": {},
   "outputs": [
    {
     "name": "stdout",
     "output_type": "stream",
     "text": [
      "Number of train events: 216_716_096\n",
      "Number of unique sessions: 12_899_779\n",
      "Number of unique sessions with not only views event: 3_846_669\n"
     ]
    }
   ],
   "source": [
    "print( f'Number of train events: {train.shape[0]:_}' )\n",
    "print( f'Number of unique sessions: {train[\"session\"].n_unique():_}' )\n",
    "print( f'Number of unique sessions with not only views event: {train.filter( pl.col(\"type\") != \"clicks\" )[\"session\"].n_unique():_}' )"
   ]
  },
  {
   "cell_type": "code",
   "execution_count": 9,
   "metadata": {},
   "outputs": [
    {
     "name": "stdout",
     "output_type": "stream",
     "text": [
      "Number of events in sessions without only view events: 21_995_142\n"
     ]
    }
   ],
   "source": [
    "print( f'Number of events in sessions without only view events: {train.filter( pl.col(\"type\") != \"clicks\" ).shape[0]:_}' )"
   ]
  },
  {
   "cell_type": "code",
   "execution_count": 10,
   "metadata": {},
   "outputs": [],
   "source": [
    "import plotly.express as px\n",
    "import plotly.graph_objects as go"
   ]
  },
  {
   "cell_type": "code",
   "execution_count": 11,
   "metadata": {},
   "outputs": [],
   "source": [
    "# fig = px.histogram( train, x=\"ts\", color=\"type\", nbins=300 )\n",
    "# fig.show() "
   ]
  },
  {
   "cell_type": "code",
   "execution_count": 12,
   "metadata": {},
   "outputs": [
    {
     "data": {
      "text/html": [
       "<div><style>\n",
       ".dataframe > thead > tr,\n",
       ".dataframe > tbody > tr {\n",
       "  text-align: right;\n",
       "  white-space: pre-wrap;\n",
       "}\n",
       "</style>\n",
       "<small>shape: (9, 5)</small><table border=\"1\" class=\"dataframe\"><thead><tr><th>statistic</th><th>session</th><th>aid</th><th>ts</th><th>type</th></tr><tr><td>str</td><td>f64</td><td>f64</td><td>f64</td><td>str</td></tr></thead><tbody><tr><td>&quot;count&quot;</td><td>2.16716096e8</td><td>2.16716096e8</td><td>2.16716096e8</td><td>&quot;216716096&quot;</td></tr><tr><td>&quot;null_count&quot;</td><td>0.0</td><td>0.0</td><td>0.0</td><td>&quot;0&quot;</td></tr><tr><td>&quot;mean&quot;</td><td>4.7028e6</td><td>928805.229105</td><td>1.6605e12</td><td>null</td></tr><tr><td>&quot;std&quot;</td><td>3.6650e6</td><td>536691.747782</td><td>6.9615e8</td><td>null</td></tr><tr><td>&quot;min&quot;</td><td>0.0</td><td>0.0</td><td>1.6593e12</td><td>&quot;carts&quot;</td></tr><tr><td>&quot;25%&quot;</td><td>1.456817e6</td><td>467421.0</td><td>1.6599e12</td><td>null</td></tr><tr><td>&quot;50%&quot;</td><td>3.915777e6</td><td>928109.0</td><td>1.6605e12</td><td>null</td></tr><tr><td>&quot;75%&quot;</td><td>7.468753e6</td><td>1.394862e6</td><td>1.6611e12</td><td>null</td></tr><tr><td>&quot;max&quot;</td><td>1.2899778e7</td><td>1.855602e6</td><td>1.6617e12</td><td>&quot;orders&quot;</td></tr></tbody></table></div>"
      ],
      "text/plain": [
       "shape: (9, 5)\n",
       "┌────────────┬──────────────┬───────────────┬──────────────┬───────────┐\n",
       "│ statistic  ┆ session      ┆ aid           ┆ ts           ┆ type      │\n",
       "│ ---        ┆ ---          ┆ ---           ┆ ---          ┆ ---       │\n",
       "│ str        ┆ f64          ┆ f64           ┆ f64          ┆ str       │\n",
       "╞════════════╪══════════════╪═══════════════╪══════════════╪═══════════╡\n",
       "│ count      ┆ 2.16716096e8 ┆ 2.16716096e8  ┆ 2.16716096e8 ┆ 216716096 │\n",
       "│ null_count ┆ 0.0          ┆ 0.0           ┆ 0.0          ┆ 0         │\n",
       "│ mean       ┆ 4.7028e6     ┆ 928805.229105 ┆ 1.6605e12    ┆ null      │\n",
       "│ std        ┆ 3.6650e6     ┆ 536691.747782 ┆ 6.9615e8     ┆ null      │\n",
       "│ min        ┆ 0.0          ┆ 0.0           ┆ 1.6593e12    ┆ carts     │\n",
       "│ 25%        ┆ 1.456817e6   ┆ 467421.0      ┆ 1.6599e12    ┆ null      │\n",
       "│ 50%        ┆ 3.915777e6   ┆ 928109.0      ┆ 1.6605e12    ┆ null      │\n",
       "│ 75%        ┆ 7.468753e6   ┆ 1.394862e6    ┆ 1.6611e12    ┆ null      │\n",
       "│ max        ┆ 1.2899778e7  ┆ 1.855602e6    ┆ 1.6617e12    ┆ orders    │\n",
       "└────────────┴──────────────┴───────────────┴──────────────┴───────────┘"
      ]
     },
     "execution_count": 12,
     "metadata": {},
     "output_type": "execute_result"
    }
   ],
   "source": [
    "train.describe()"
   ]
  },
  {
   "cell_type": "code",
   "execution_count": 13,
   "metadata": {},
   "outputs": [
    {
     "name": "stdout",
     "output_type": "stream",
     "text": [
      "Train from 2022-08-01 to 2022-08-28\n",
      "Test from 2022-08-29 to 2022-09-04\n"
     ]
    }
   ],
   "source": [
    "from datetime import datetime\n",
    "\n",
    "test_ts_min = datetime.fromtimestamp( test[\"ts\"].min() / 1000 )\n",
    "test_ts_max = datetime.fromtimestamp( test[\"ts\"].max() / 1000 )\n",
    "\n",
    "train_ts_min = datetime.fromtimestamp( train[\"ts\"].min() / 1000 )\n",
    "train_ts_max = datetime.fromtimestamp( train[\"ts\"].max() / 1000 )\n",
    "\n",
    "print( f'Train from {train_ts_min.date()} to {train_ts_max.date()}' )\n",
    "print( f'Test from {test_ts_min.date()} to {test_ts_max.date()}' )\n"
   ]
  },
  {
   "cell_type": "code",
   "execution_count": 14,
   "metadata": {},
   "outputs": [
    {
     "data": {
      "text/plain": [
       "216716096"
      ]
     },
     "execution_count": 14,
     "metadata": {},
     "output_type": "execute_result"
    }
   ],
   "source": [
    "train.shape[0]"
   ]
  },
  {
   "cell_type": "code",
   "execution_count": 15,
   "metadata": {},
   "outputs": [],
   "source": [
    "train = train.sort( pl.col(\"ts\") )"
   ]
  },
  {
   "cell_type": "code",
   "execution_count": 16,
   "metadata": {},
   "outputs": [
    {
     "name": "stdout",
     "output_type": "stream",
     "text": [
      "Last 50m events from 2022-08-22 to 2022-08-28\n"
     ]
    }
   ],
   "source": [
    "last_50m = train.tail( 50_000_000 )\n",
    "\n",
    "last_50m_ts_min = datetime.fromtimestamp( last_50m[\"ts\"].min() / 1000 )\n",
    "last_50m_ts_max = datetime.fromtimestamp( last_50m[\"ts\"].max() / 1000 )\n",
    "\n",
    "print( f'Last 50m events from {last_50m_ts_min.date()} to {last_50m_ts_max.date()}' )"
   ]
  },
  {
   "cell_type": "code",
   "execution_count": 17,
   "metadata": {},
   "outputs": [
    {
     "data": {
      "text/html": [
       "<div><style>\n",
       ".dataframe > thead > tr,\n",
       ".dataframe > tbody > tr {\n",
       "  text-align: right;\n",
       "  white-space: pre-wrap;\n",
       "}\n",
       "</style>\n",
       "<small>shape: (9, 5)</small><table border=\"1\" class=\"dataframe\"><thead><tr><th>statistic</th><th>session</th><th>aid</th><th>ts</th><th>type</th></tr><tr><td>str</td><td>f64</td><td>f64</td><td>f64</td><td>str</td></tr></thead><tbody><tr><td>&quot;count&quot;</td><td>5e7</td><td>5e7</td><td>5e7</td><td>&quot;50000000&quot;</td></tr><tr><td>&quot;null_count&quot;</td><td>0.0</td><td>0.0</td><td>0.0</td><td>&quot;0&quot;</td></tr><tr><td>&quot;mean&quot;</td><td>6.5653e6</td><td>927330.342202</td><td>1.6615e12</td><td>null</td></tr><tr><td>&quot;std&quot;</td><td>4.4965e6</td><td>537564.393936</td><td>1.7056e8</td><td>null</td></tr><tr><td>&quot;min&quot;</td><td>0.0</td><td>0.0</td><td>1.6612e12</td><td>&quot;carts&quot;</td></tr><tr><td>&quot;25%&quot;</td><td>2.148575e6</td><td>465128.0</td><td>1.6613e12</td><td>null</td></tr><tr><td>&quot;50%&quot;</td><td>6.21363e6</td><td>925754.0</td><td>1.6615e12</td><td>null</td></tr><tr><td>&quot;75%&quot;</td><td>1.1406157e7</td><td>1.394787e6</td><td>1.6616e12</td><td>null</td></tr><tr><td>&quot;max&quot;</td><td>1.2899778e7</td><td>1.855602e6</td><td>1.6617e12</td><td>&quot;orders&quot;</td></tr></tbody></table></div>"
      ],
      "text/plain": [
       "shape: (9, 5)\n",
       "┌────────────┬─────────────┬───────────────┬───────────┬──────────┐\n",
       "│ statistic  ┆ session     ┆ aid           ┆ ts        ┆ type     │\n",
       "│ ---        ┆ ---         ┆ ---           ┆ ---       ┆ ---      │\n",
       "│ str        ┆ f64         ┆ f64           ┆ f64       ┆ str      │\n",
       "╞════════════╪═════════════╪═══════════════╪═══════════╪══════════╡\n",
       "│ count      ┆ 5e7         ┆ 5e7           ┆ 5e7       ┆ 50000000 │\n",
       "│ null_count ┆ 0.0         ┆ 0.0           ┆ 0.0       ┆ 0        │\n",
       "│ mean       ┆ 6.5653e6    ┆ 927330.342202 ┆ 1.6615e12 ┆ null     │\n",
       "│ std        ┆ 4.4965e6    ┆ 537564.393936 ┆ 1.7056e8  ┆ null     │\n",
       "│ min        ┆ 0.0         ┆ 0.0           ┆ 1.6612e12 ┆ carts    │\n",
       "│ 25%        ┆ 2.148575e6  ┆ 465128.0      ┆ 1.6613e12 ┆ null     │\n",
       "│ 50%        ┆ 6.21363e6   ┆ 925754.0      ┆ 1.6615e12 ┆ null     │\n",
       "│ 75%        ┆ 1.1406157e7 ┆ 1.394787e6    ┆ 1.6616e12 ┆ null     │\n",
       "│ max        ┆ 1.2899778e7 ┆ 1.855602e6    ┆ 1.6617e12 ┆ orders   │\n",
       "└────────────┴─────────────┴───────────────┴───────────┴──────────┘"
      ]
     },
     "execution_count": 17,
     "metadata": {},
     "output_type": "execute_result"
    }
   ],
   "source": [
    "last_50m.describe()"
   ]
  },
  {
   "cell_type": "code",
   "execution_count": 18,
   "metadata": {},
   "outputs": [],
   "source": [
    "train_counts = train.group_by( pl.col( \"session\" ) ).len()\n",
    "\n",
    "fig = px.histogram( train_counts, x=\"len\" )\n",
    "# fig.show()"
   ]
  },
  {
   "cell_type": "code",
   "execution_count": 19,
   "metadata": {},
   "outputs": [
    {
     "data": {
      "text/plain": [
       "500"
      ]
     },
     "execution_count": 19,
     "metadata": {},
     "output_type": "execute_result"
    }
   ],
   "source": [
    "train_counts[\"len\"].max()"
   ]
  },
  {
   "cell_type": "code",
   "execution_count": 20,
   "metadata": {},
   "outputs": [],
   "source": [
    "last_50m_counts = last_50m.group_by( pl.col( \"session\" ) ).len()\n",
    "\n",
    "fig = px.histogram( last_50m_counts, x=\"len\" )\n",
    "# fig.show()"
   ]
  },
  {
   "cell_type": "code",
   "execution_count": 21,
   "metadata": {},
   "outputs": [
    {
     "name": "stdout",
     "output_type": "stream",
     "text": [
      "Original len median: 6.0\n",
      "Truncated len median: 4.0\n"
     ]
    }
   ],
   "source": [
    "print( f'Original len median: { train_counts[\"len\"].median() }' )\n",
    "print( f'Truncated len median: { last_50m_counts[\"len\"].median() }' )"
   ]
  },
  {
   "cell_type": "code",
   "execution_count": 22,
   "metadata": {},
   "outputs": [],
   "source": [
    "train_df = pl.read_ndjson( \"/var/tmp/xgregor1/data/otto/train.jsonl\" )"
   ]
  },
  {
   "cell_type": "code",
   "execution_count": 23,
   "metadata": {},
   "outputs": [],
   "source": [
    "train_agg = train_df.explode( \"events\" )\\\n",
    "    .unnest( \"events\" )\\\n",
    "    .group_by( \"session\" )\\\n",
    "    .agg(\n",
    "        min_ts=pl.col( \"ts\" ).min(), \n",
    "        max_ts=pl.col( \"ts\" ).max(), \n",
    "        len=pl.col( \"ts\" ).len()\n",
    "    )"
   ]
  },
  {
   "cell_type": "code",
   "execution_count": 24,
   "metadata": {},
   "outputs": [],
   "source": [
    "train_df = train_df.join( train_agg, on=\"session\" )"
   ]
  },
  {
   "cell_type": "code",
   "execution_count": 25,
   "metadata": {},
   "outputs": [
    {
     "data": {
      "text/html": [
       "<div><style>\n",
       ".dataframe > thead > tr,\n",
       ".dataframe > tbody > tr {\n",
       "  text-align: right;\n",
       "  white-space: pre-wrap;\n",
       "}\n",
       "</style>\n",
       "<small>shape: (9, 6)</small><table border=\"1\" class=\"dataframe\"><thead><tr><th>statistic</th><th>session</th><th>events</th><th>min_ts</th><th>max_ts</th><th>len</th></tr><tr><td>str</td><td>f64</td><td>f64</td><td>f64</td><td>f64</td><td>f64</td></tr></thead><tbody><tr><td>&quot;count&quot;</td><td>1.2899779e7</td><td>1.2899779e7</td><td>1.2899779e7</td><td>1.2899779e7</td><td>1.2899779e7</td></tr><tr><td>&quot;null_count&quot;</td><td>0.0</td><td>0.0</td><td>0.0</td><td>0.0</td><td>0.0</td></tr><tr><td>&quot;mean&quot;</td><td>6.449889e6</td><td>null</td><td>1.6602e12</td><td>1.6608e12</td><td>16.799985</td></tr><tr><td>&quot;std&quot;</td><td>3.7238e6</td><td>null</td><td>6.9125e8</td><td>6.8843e8</td><td>33.57738</td></tr><tr><td>&quot;min&quot;</td><td>0.0</td><td>null</td><td>1.6593e12</td><td>1.6593e12</td><td>2.0</td></tr><tr><td>&quot;25%&quot;</td><td>3.224945e6</td><td>null</td><td>1.6596e12</td><td>1.6603e12</td><td>3.0</td></tr><tr><td>&quot;50%&quot;</td><td>6.449889e6</td><td>null</td><td>1.6601e12</td><td>1.6609e12</td><td>6.0</td></tr><tr><td>&quot;75%&quot;</td><td>9.674834e6</td><td>null</td><td>1.6607e12</td><td>1.6614e12</td><td>15.0</td></tr><tr><td>&quot;max&quot;</td><td>1.2899778e7</td><td>null</td><td>1.6617e12</td><td>1.6617e12</td><td>500.0</td></tr></tbody></table></div>"
      ],
      "text/plain": [
       "shape: (9, 6)\n",
       "┌────────────┬─────────────┬─────────────┬─────────────┬─────────────┬─────────────┐\n",
       "│ statistic  ┆ session     ┆ events      ┆ min_ts      ┆ max_ts      ┆ len         │\n",
       "│ ---        ┆ ---         ┆ ---         ┆ ---         ┆ ---         ┆ ---         │\n",
       "│ str        ┆ f64         ┆ f64         ┆ f64         ┆ f64         ┆ f64         │\n",
       "╞════════════╪═════════════╪═════════════╪═════════════╪═════════════╪═════════════╡\n",
       "│ count      ┆ 1.2899779e7 ┆ 1.2899779e7 ┆ 1.2899779e7 ┆ 1.2899779e7 ┆ 1.2899779e7 │\n",
       "│ null_count ┆ 0.0         ┆ 0.0         ┆ 0.0         ┆ 0.0         ┆ 0.0         │\n",
       "│ mean       ┆ 6.449889e6  ┆ null        ┆ 1.6602e12   ┆ 1.6608e12   ┆ 16.799985   │\n",
       "│ std        ┆ 3.7238e6    ┆ null        ┆ 6.9125e8    ┆ 6.8843e8    ┆ 33.57738    │\n",
       "│ min        ┆ 0.0         ┆ null        ┆ 1.6593e12   ┆ 1.6593e12   ┆ 2.0         │\n",
       "│ 25%        ┆ 3.224945e6  ┆ null        ┆ 1.6596e12   ┆ 1.6603e12   ┆ 3.0         │\n",
       "│ 50%        ┆ 6.449889e6  ┆ null        ┆ 1.6601e12   ┆ 1.6609e12   ┆ 6.0         │\n",
       "│ 75%        ┆ 9.674834e6  ┆ null        ┆ 1.6607e12   ┆ 1.6614e12   ┆ 15.0        │\n",
       "│ max        ┆ 1.2899778e7 ┆ null        ┆ 1.6617e12   ┆ 1.6617e12   ┆ 500.0       │\n",
       "└────────────┴─────────────┴─────────────┴─────────────┴─────────────┴─────────────┘"
      ]
     },
     "execution_count": 25,
     "metadata": {},
     "output_type": "execute_result"
    }
   ],
   "source": [
    "train_df.describe()"
   ]
  },
  {
   "cell_type": "code",
   "execution_count": 26,
   "metadata": {},
   "outputs": [
    {
     "data": {
      "text/plain": [
       "'216_716_096'"
      ]
     },
     "execution_count": 26,
     "metadata": {},
     "output_type": "execute_result"
    }
   ],
   "source": [
    "f'{train_df[\"len\"].sum():_}'"
   ]
  },
  {
   "cell_type": "code",
   "execution_count": 27,
   "metadata": {},
   "outputs": [],
   "source": [
    "end_events = train_df.lazy()\\\n",
    "    .select((\"session\", \"max_ts\", \"min_ts\")).with_columns( aid=None, type=pl.lit(\"end\"), ts=pl.col( \"max_ts\" ) )\\\n",
    "    .with_columns( events=pl.struct( pl.col((\"aid\", \"ts\", \"type\"))) )\\\n",
    "    .drop(( \"aid\", \"type\", \"ts\" ))\\\n",
    "    .group_by( \"session\" )\\\n",
    "    .agg(\n",
    "        end_events=pl.col( \"events\" )\n",
    "    )\\\n",
    "    .collect()\n",
    "\n",
    "\n",
    "\n",
    "# train_df[\"events\"].list.append( { \"aid\": None, \"type\": \"end\", \"ts\": pl.col( \"max_ts\" ) } )"
   ]
  },
  {
   "cell_type": "code",
   "execution_count": 33,
   "metadata": {},
   "outputs": [],
   "source": [
    "train_df = train_df.with_columns( train_df[\"events\"].list.concat( end_events[\"end_events\"] ))"
   ]
  },
  {
   "cell_type": "code",
   "execution_count": 60,
   "metadata": {},
   "outputs": [
    {
     "data": {
      "text/plain": [
       "7.0"
      ]
     },
     "execution_count": 60,
     "metadata": {},
     "output_type": "execute_result"
    }
   ],
   "source": [
    "train_df[\"events\"].list.len().median()"
   ]
  },
  {
   "cell_type": "code",
   "execution_count": 63,
   "metadata": {},
   "outputs": [],
   "source": [
    "train_df = train_df.filter( pl.col( \"events\" ).list.len() >= 7 )"
   ]
  },
  {
   "cell_type": "code",
   "execution_count": 64,
   "metadata": {},
   "outputs": [],
   "source": [
    "train_df_nv_e = train_df.explode(\"events\").unnest(\"events\")"
   ]
  },
  {
   "cell_type": "code",
   "execution_count": 65,
   "metadata": {},
   "outputs": [],
   "source": [
    "ts_split = train_df_nv_e[\"ts\"].quantile( 0.75 )"
   ]
  },
  {
   "cell_type": "code",
   "execution_count": 66,
   "metadata": {},
   "outputs": [],
   "source": [
    "before = train_df.filter( pl.col( \"max_ts\" ) < ts_split )\n",
    "after = train_df.filter( pl.col( \"min_ts\" ) > ts_split )\n",
    "inbetween = train_df.filter( (pl.col( \"max_ts\" ) >= ts_split) & (pl.col( \"min_ts\" ) <= ts_split) )"
   ]
  },
  {
   "cell_type": "code",
   "execution_count": 67,
   "metadata": {},
   "outputs": [
    {
     "data": {
      "text/plain": [
       "'120_385_417'"
      ]
     },
     "execution_count": 67,
     "metadata": {},
     "output_type": "execute_result"
    }
   ],
   "source": [
    "f'{inbetween[\"len\"].sum():_}'"
   ]
  },
  {
   "cell_type": "code",
   "execution_count": 68,
   "metadata": {},
   "outputs": [
    {
     "data": {
      "text/plain": [
       "'65_327_064'"
      ]
     },
     "execution_count": 68,
     "metadata": {},
     "output_type": "execute_result"
    }
   ],
   "source": [
    "f'{before[\"len\"].sum():_}'"
   ]
  },
  {
   "cell_type": "code",
   "execution_count": 69,
   "metadata": {},
   "outputs": [
    {
     "data": {
      "text/plain": [
       "'12_140_688'"
      ]
     },
     "execution_count": 69,
     "metadata": {},
     "output_type": "execute_result"
    }
   ],
   "source": [
    "f'{after[\"len\"].sum():_}'"
   ]
  },
  {
   "cell_type": "code",
   "execution_count": 70,
   "metadata": {},
   "outputs": [
    {
     "data": {
      "text/html": [
       "<div><style>\n",
       ".dataframe > thead > tr,\n",
       ".dataframe > tbody > tr {\n",
       "  text-align: right;\n",
       "  white-space: pre-wrap;\n",
       "}\n",
       "</style>\n",
       "<small>shape: (4, 2)</small><table border=\"1\" class=\"dataframe\"><thead><tr><th>type</th><th>count</th></tr><tr><td>str</td><td>u32</td></tr></thead><tbody><tr><td>&quot;orders&quot;</td><td>380423</td></tr><tr><td>&quot;end&quot;</td><td>705542</td></tr><tr><td>&quot;clicks&quot;</td><td>10565707</td></tr><tr><td>&quot;carts&quot;</td><td>1194558</td></tr></tbody></table></div>"
      ],
      "text/plain": [
       "shape: (4, 2)\n",
       "┌────────┬──────────┐\n",
       "│ type   ┆ count    │\n",
       "│ ---    ┆ ---      │\n",
       "│ str    ┆ u32      │\n",
       "╞════════╪══════════╡\n",
       "│ orders ┆ 380423   │\n",
       "│ end    ┆ 705542   │\n",
       "│ clicks ┆ 10565707 │\n",
       "│ carts  ┆ 1194558  │\n",
       "└────────┴──────────┘"
      ]
     },
     "execution_count": 70,
     "metadata": {},
     "output_type": "execute_result"
    }
   ],
   "source": [
    "after.explode( \"events\" ).unnest( \"events\" )[\"type\"].value_counts()"
   ]
  },
  {
   "cell_type": "code",
   "execution_count": 71,
   "metadata": {},
   "outputs": [],
   "source": [
    "after_labels = after.explode( \"events\" ).unnest( \"events\" ).filter( pl.col( \"type\" ).is_in(( \"clicks\", \"end\" )) )\n",
    "after_labels = after_labels.rename({\n",
    "    \"aid\": \"label\",\n",
    "    \"type\": \"label_type\",\n",
    "    \"ts\": \"label_ts\"\n",
    "})\n",
    "\n",
    "after = after.join( after_labels[[\"session\", \"label\", \"label_type\", \"label_ts\"]], on=\"session\" )"
   ]
  },
  {
   "cell_type": "code",
   "execution_count": 72,
   "metadata": {},
   "outputs": [
    {
     "data": {
      "text/html": [
       "<div><style>\n",
       ".dataframe > thead > tr,\n",
       ".dataframe > tbody > tr {\n",
       "  text-align: right;\n",
       "  white-space: pre-wrap;\n",
       "}\n",
       "</style>\n",
       "<small>shape: (11_271_249, 8)</small><table border=\"1\" class=\"dataframe\"><thead><tr><th>session</th><th>events</th><th>min_ts</th><th>max_ts</th><th>len</th><th>label</th><th>label_type</th><th>label_ts</th></tr><tr><td>i64</td><td>list[struct[3]]</td><td>i64</td><td>i64</td><td>u32</td><td>i64</td><td>str</td><td>i64</td></tr></thead><tbody><tr><td>12721963</td><td>[{1134512,1661686201941,&quot;clicks&quot;}, {1134512,1661686276428,&quot;carts&quot;}, … {null,1661086222951,&quot;end&quot;}]</td><td>1661686201941</td><td>1661687297172</td><td>9</td><td>1134512</td><td>&quot;clicks&quot;</td><td>1661686201941</td></tr><tr><td>12721963</td><td>[{1134512,1661686201941,&quot;clicks&quot;}, {1134512,1661686276428,&quot;carts&quot;}, … {null,1661086222951,&quot;end&quot;}]</td><td>1661686201941</td><td>1661687297172</td><td>9</td><td>1441233</td><td>&quot;clicks&quot;</td><td>1661686377819</td></tr><tr><td>12721963</td><td>[{1134512,1661686201941,&quot;clicks&quot;}, {1134512,1661686276428,&quot;carts&quot;}, … {null,1661086222951,&quot;end&quot;}]</td><td>1661686201941</td><td>1661687297172</td><td>9</td><td>449821</td><td>&quot;clicks&quot;</td><td>1661686947443</td></tr><tr><td>12721963</td><td>[{1134512,1661686201941,&quot;clicks&quot;}, {1134512,1661686276428,&quot;carts&quot;}, … {null,1661086222951,&quot;end&quot;}]</td><td>1661686201941</td><td>1661687297172</td><td>9</td><td>null</td><td>&quot;end&quot;</td><td>1661086222951</td></tr><tr><td>11152936</td><td>[{316498,1661157162073,&quot;clicks&quot;}, {1083413,1661157211798,&quot;clicks&quot;}, … {null,1660501265591,&quot;end&quot;}]</td><td>1661157162073</td><td>1661619064270</td><td>8</td><td>316498</td><td>&quot;clicks&quot;</td><td>1661157162073</td></tr><tr><td>&hellip;</td><td>&hellip;</td><td>&hellip;</td><td>&hellip;</td><td>&hellip;</td><td>&hellip;</td><td>&hellip;</td><td>&hellip;</td></tr><tr><td>12837967</td><td>[{1207174,1661709446338,&quot;clicks&quot;}, {1470468,1661709517527,&quot;clicks&quot;}, … {null,1659539910594,&quot;end&quot;}]</td><td>1661709446338</td><td>1661709709175</td><td>6</td><td>1207174</td><td>&quot;clicks&quot;</td><td>1661709532533</td></tr><tr><td>12837967</td><td>[{1207174,1661709446338,&quot;clicks&quot;}, {1470468,1661709517527,&quot;clicks&quot;}, … {null,1659539910594,&quot;end&quot;}]</td><td>1661709446338</td><td>1661709709175</td><td>6</td><td>1223915</td><td>&quot;clicks&quot;</td><td>1661709551250</td></tr><tr><td>12837967</td><td>[{1207174,1661709446338,&quot;clicks&quot;}, {1470468,1661709517527,&quot;clicks&quot;}, … {null,1659539910594,&quot;end&quot;}]</td><td>1661709446338</td><td>1661709709175</td><td>6</td><td>585186</td><td>&quot;clicks&quot;</td><td>1661709601410</td></tr><tr><td>12837967</td><td>[{1207174,1661709446338,&quot;clicks&quot;}, {1470468,1661709517527,&quot;clicks&quot;}, … {null,1659539910594,&quot;end&quot;}]</td><td>1661709446338</td><td>1661709709175</td><td>6</td><td>977764</td><td>&quot;clicks&quot;</td><td>1661709709175</td></tr><tr><td>12837967</td><td>[{1207174,1661709446338,&quot;clicks&quot;}, {1470468,1661709517527,&quot;clicks&quot;}, … {null,1659539910594,&quot;end&quot;}]</td><td>1661709446338</td><td>1661709709175</td><td>6</td><td>null</td><td>&quot;end&quot;</td><td>1659539910594</td></tr></tbody></table></div>"
      ],
      "text/plain": [
       "shape: (11_271_249, 8)\n",
       "┌──────────┬──────────────┬──────────────┬──────────────┬─────┬─────────┬────────────┬─────────────┐\n",
       "│ session  ┆ events       ┆ min_ts       ┆ max_ts       ┆ len ┆ label   ┆ label_type ┆ label_ts    │\n",
       "│ ---      ┆ ---          ┆ ---          ┆ ---          ┆ --- ┆ ---     ┆ ---        ┆ ---         │\n",
       "│ i64      ┆ list[struct[ ┆ i64          ┆ i64          ┆ u32 ┆ i64     ┆ str        ┆ i64         │\n",
       "│          ┆ 3]]          ┆              ┆              ┆     ┆         ┆            ┆             │\n",
       "╞══════════╪══════════════╪══════════════╪══════════════╪═════╪═════════╪════════════╪═════════════╡\n",
       "│ 12721963 ┆ [{1134512,16 ┆ 166168620194 ┆ 166168729717 ┆ 9   ┆ 1134512 ┆ clicks     ┆ 16616862019 │\n",
       "│          ┆ 61686201941, ┆ 1            ┆ 2            ┆     ┆         ┆            ┆ 41          │\n",
       "│          ┆ \"clicks\"…    ┆              ┆              ┆     ┆         ┆            ┆             │\n",
       "│ 12721963 ┆ [{1134512,16 ┆ 166168620194 ┆ 166168729717 ┆ 9   ┆ 1441233 ┆ clicks     ┆ 16616863778 │\n",
       "│          ┆ 61686201941, ┆ 1            ┆ 2            ┆     ┆         ┆            ┆ 19          │\n",
       "│          ┆ \"clicks\"…    ┆              ┆              ┆     ┆         ┆            ┆             │\n",
       "│ 12721963 ┆ [{1134512,16 ┆ 166168620194 ┆ 166168729717 ┆ 9   ┆ 449821  ┆ clicks     ┆ 16616869474 │\n",
       "│          ┆ 61686201941, ┆ 1            ┆ 2            ┆     ┆         ┆            ┆ 43          │\n",
       "│          ┆ \"clicks\"…    ┆              ┆              ┆     ┆         ┆            ┆             │\n",
       "│ 12721963 ┆ [{1134512,16 ┆ 166168620194 ┆ 166168729717 ┆ 9   ┆ null    ┆ end        ┆ 16610862229 │\n",
       "│          ┆ 61686201941, ┆ 1            ┆ 2            ┆     ┆         ┆            ┆ 51          │\n",
       "│          ┆ \"clicks\"…    ┆              ┆              ┆     ┆         ┆            ┆             │\n",
       "│ 11152936 ┆ [{316498,166 ┆ 166115716207 ┆ 166161906427 ┆ 8   ┆ 316498  ┆ clicks     ┆ 16611571620 │\n",
       "│          ┆ 1157162073,\" ┆ 3            ┆ 0            ┆     ┆         ┆            ┆ 73          │\n",
       "│          ┆ clicks\"}…    ┆              ┆              ┆     ┆         ┆            ┆             │\n",
       "│ …        ┆ …            ┆ …            ┆ …            ┆ …   ┆ …       ┆ …          ┆ …           │\n",
       "│ 12837967 ┆ [{1207174,16 ┆ 166170944633 ┆ 166170970917 ┆ 6   ┆ 1207174 ┆ clicks     ┆ 16617095325 │\n",
       "│          ┆ 61709446338, ┆ 8            ┆ 5            ┆     ┆         ┆            ┆ 33          │\n",
       "│          ┆ \"clicks\"…    ┆              ┆              ┆     ┆         ┆            ┆             │\n",
       "│ 12837967 ┆ [{1207174,16 ┆ 166170944633 ┆ 166170970917 ┆ 6   ┆ 1223915 ┆ clicks     ┆ 16617095512 │\n",
       "│          ┆ 61709446338, ┆ 8            ┆ 5            ┆     ┆         ┆            ┆ 50          │\n",
       "│          ┆ \"clicks\"…    ┆              ┆              ┆     ┆         ┆            ┆             │\n",
       "│ 12837967 ┆ [{1207174,16 ┆ 166170944633 ┆ 166170970917 ┆ 6   ┆ 585186  ┆ clicks     ┆ 16617096014 │\n",
       "│          ┆ 61709446338, ┆ 8            ┆ 5            ┆     ┆         ┆            ┆ 10          │\n",
       "│          ┆ \"clicks\"…    ┆              ┆              ┆     ┆         ┆            ┆             │\n",
       "│ 12837967 ┆ [{1207174,16 ┆ 166170944633 ┆ 166170970917 ┆ 6   ┆ 977764  ┆ clicks     ┆ 16617097091 │\n",
       "│          ┆ 61709446338, ┆ 8            ┆ 5            ┆     ┆         ┆            ┆ 75          │\n",
       "│          ┆ \"clicks\"…    ┆              ┆              ┆     ┆         ┆            ┆             │\n",
       "│ 12837967 ┆ [{1207174,16 ┆ 166170944633 ┆ 166170970917 ┆ 6   ┆ null    ┆ end        ┆ 16595399105 │\n",
       "│          ┆ 61709446338, ┆ 8            ┆ 5            ┆     ┆         ┆            ┆ 94          │\n",
       "│          ┆ \"clicks\"…    ┆              ┆              ┆     ┆         ┆            ┆             │\n",
       "└──────────┴──────────────┴──────────────┴──────────────┴─────┴─────────┴────────────┴─────────────┘"
      ]
     },
     "execution_count": 72,
     "metadata": {},
     "output_type": "execute_result"
    }
   ],
   "source": [
    "after"
   ]
  },
  {
   "cell_type": "code",
   "execution_count": 73,
   "metadata": {},
   "outputs": [],
   "source": [
    "after_final = after.drop((\"min_ts\", \"max_ts\", \"len\", \"unique_types\", \"unique_values\"))\\\n",
    "    .explode( \"events\" )\\\n",
    "    .unnest( \"events\" )\\\n",
    "    .filter( (pl.col( \"ts\" ) < pl.col( \"label_ts\" )) & ( pl.col(\"label\") != pl.col( \"aid\" ) ) )"
   ]
  },
  {
   "cell_type": "code",
   "execution_count": 74,
   "metadata": {},
   "outputs": [],
   "source": [
    "after_final = after_final\\\n",
    "                .with_columns( after_final[[\"aid\", \"ts\", \"type\"]].to_struct().alias( \"events\" ) )\\\n",
    "                .drop(( \"aid\", \"ts\", \"type\" ))"
   ]
  },
  {
   "cell_type": "code",
   "execution_count": 75,
   "metadata": {},
   "outputs": [
    {
     "data": {
      "text/plain": [
       "(6699195, 3)"
      ]
     },
     "execution_count": 75,
     "metadata": {},
     "output_type": "execute_result"
    }
   ],
   "source": [
    "after_final = after_final.drop( \"label_ts\" )\\\n",
    "    .group_by(( \"session\", \"label\" ))\\\n",
    "    .agg(\n",
    "        pl.col( \"events\" )\n",
    "    )\n",
    "\n",
    "after_final.shape"
   ]
  },
  {
   "cell_type": "code",
   "execution_count": 79,
   "metadata": {},
   "outputs": [],
   "source": [
    "after_final.write_parquet( \"/var/tmp/xgregor1/data/otto-reduced/test.parquet\" )"
   ]
  },
  {
   "cell_type": "code",
   "execution_count": null,
   "metadata": {},
   "outputs": [
    {
     "data": {
      "text/html": [
       "<div><style>\n",
       ".dataframe > thead > tr,\n",
       ".dataframe > tbody > tr {\n",
       "  text-align: right;\n",
       "  white-space: pre-wrap;\n",
       "}\n",
       "</style>\n",
       "<small>shape: (7_615_909, 5)</small><table border=\"1\" class=\"dataframe\"><thead><tr><th>session</th><th>events</th><th>min_ts</th><th>max_ts</th><th>len</th></tr><tr><td>i64</td><td>list[struct[3]]</td><td>i64</td><td>i64</td><td>u32</td></tr></thead><tbody><tr><td>1185618</td><td>[{1020908,1659386928785,&quot;clicks&quot;}, {1356523,1659386944620,&quot;clicks&quot;}, … {null,1661013267703,&quot;end&quot;}]</td><td>1659386928785</td><td>1660156272312</td><td>25</td></tr><tr><td>7575896</td><td>[{1440931,1660340322363,&quot;clicks&quot;}, {319999,1660494401518,&quot;clicks&quot;}, … {null,1659604112856,&quot;end&quot;}]</td><td>1660340322363</td><td>1660923183337</td><td>10</td></tr><tr><td>4293917</td><td>[{1679269,1659737781324,&quot;clicks&quot;}, {1114793,1659883327581,&quot;clicks&quot;}, … {null,1659506762881,&quot;end&quot;}]</td><td>1659737781324</td><td>1660906525155</td><td>6</td></tr><tr><td>8176504</td><td>[{883727,1660467895512,&quot;clicks&quot;}, {883727,1660467957842,&quot;clicks&quot;}, {null,1659968940894,&quot;end&quot;}]</td><td>1660467895512</td><td>1660467957842</td><td>2</td></tr><tr><td>462188</td><td>[{69116,1659351401895,&quot;clicks&quot;}, {69116,1659351544850,&quot;clicks&quot;}, … {null,1661505422544,&quot;end&quot;}]</td><td>1659351401895</td><td>1659351983434</td><td>8</td></tr><tr><td>&hellip;</td><td>&hellip;</td><td>&hellip;</td><td>&hellip;</td><td>&hellip;</td></tr><tr><td>2210007</td><td>[{1508734,1659498037473,&quot;clicks&quot;}, {10565,1659498221058,&quot;clicks&quot;}, … {null,1661631671830,&quot;end&quot;}]</td><td>1659498037473</td><td>1660488727655</td><td>6</td></tr><tr><td>7272969</td><td>[{636101,1660301315572,&quot;clicks&quot;}, {889686,1660301341951,&quot;clicks&quot;}, … {null,1661677032000,&quot;end&quot;}]</td><td>1660301315572</td><td>1660301881831</td><td>12</td></tr><tr><td>7381503</td><td>[{1596898,1660315308297,&quot;clicks&quot;}, {606245,1660315319413,&quot;clicks&quot;}, {null,1659383040943,&quot;end&quot;}]</td><td>1660315308297</td><td>1660315319413</td><td>2</td></tr><tr><td>7569078</td><td>[{320776,1660338958474,&quot;clicks&quot;}, {1480943,1660339013976,&quot;clicks&quot;}, … {null,1661357289747,&quot;end&quot;}]</td><td>1660338958474</td><td>1660339801907</td><td>15</td></tr><tr><td>7712086</td><td>[{801774,1660384723701,&quot;clicks&quot;}, {1257293,1660384762317,&quot;clicks&quot;}, … {null,1661330073456,&quot;end&quot;}]</td><td>1660384723701</td><td>1660386603044</td><td>27</td></tr></tbody></table></div>"
      ],
      "text/plain": [
       "shape: (7_615_909, 5)\n",
       "┌─────────┬───────────────────────────────────┬───────────────┬───────────────┬─────┐\n",
       "│ session ┆ events                            ┆ min_ts        ┆ max_ts        ┆ len │\n",
       "│ ---     ┆ ---                               ┆ ---           ┆ ---           ┆ --- │\n",
       "│ i64     ┆ list[struct[3]]                   ┆ i64           ┆ i64           ┆ u32 │\n",
       "╞═════════╪═══════════════════════════════════╪═══════════════╪═══════════════╪═════╡\n",
       "│ 1185618 ┆ [{1020908,1659386928785,\"clicks\"… ┆ 1659386928785 ┆ 1660156272312 ┆ 25  │\n",
       "│ 7575896 ┆ [{1440931,1660340322363,\"clicks\"… ┆ 1660340322363 ┆ 1660923183337 ┆ 10  │\n",
       "│ 4293917 ┆ [{1679269,1659737781324,\"clicks\"… ┆ 1659737781324 ┆ 1660906525155 ┆ 6   │\n",
       "│ 8176504 ┆ [{883727,1660467895512,\"clicks\"}… ┆ 1660467895512 ┆ 1660467957842 ┆ 2   │\n",
       "│ 462188  ┆ [{69116,1659351401895,\"clicks\"},… ┆ 1659351401895 ┆ 1659351983434 ┆ 8   │\n",
       "│ …       ┆ …                                 ┆ …             ┆ …             ┆ …   │\n",
       "│ 2210007 ┆ [{1508734,1659498037473,\"clicks\"… ┆ 1659498037473 ┆ 1660488727655 ┆ 6   │\n",
       "│ 7272969 ┆ [{636101,1660301315572,\"clicks\"}… ┆ 1660301315572 ┆ 1660301881831 ┆ 12  │\n",
       "│ 7381503 ┆ [{1596898,1660315308297,\"clicks\"… ┆ 1660315308297 ┆ 1660315319413 ┆ 2   │\n",
       "│ 7569078 ┆ [{320776,1660338958474,\"clicks\"}… ┆ 1660338958474 ┆ 1660339801907 ┆ 15  │\n",
       "│ 7712086 ┆ [{801774,1660384723701,\"clicks\"}… ┆ 1660384723701 ┆ 1660386603044 ┆ 27  │\n",
       "└─────────┴───────────────────────────────────┴───────────────┴───────────────┴─────┘"
      ]
     },
     "execution_count": 56,
     "metadata": {},
     "output_type": "execute_result"
    }
   ],
   "source": [
    "before"
   ]
  },
  {
   "cell_type": "code",
   "execution_count": 80,
   "metadata": {},
   "outputs": [],
   "source": [
    "before.drop(( \"min_ts\", \"max_ts\", \"len\", \"unique_types\", \"unique_values\" ))\\\n",
    "    .write_parquet( \"/var/tmp/xgregor1/data/otto-reduced/train.parquet\" )"
   ]
  }
 ],
 "metadata": {
  "kernelspec": {
   "display_name": "Python 3",
   "language": "python",
   "name": "python3"
  },
  "language_info": {
   "codemirror_mode": {
    "name": "ipython",
    "version": 3
   },
   "file_extension": ".py",
   "mimetype": "text/x-python",
   "name": "python",
   "nbconvert_exporter": "python",
   "pygments_lexer": "ipython3",
   "version": "3.9.19"
  }
 },
 "nbformat": 4,
 "nbformat_minor": 2
}
