{
 "cells": [
  {
   "cell_type": "code",
   "execution_count": 1,
   "metadata": {},
   "outputs": [],
   "source": [
    "import polars as pl"
   ]
  },
  {
   "cell_type": "code",
   "execution_count": 2,
   "metadata": {},
   "outputs": [],
   "source": [
    "test = pl.read_ndjson( \"/var/tmp/xgregor1/data/otto/test.jsonl\" )"
   ]
  },
  {
   "cell_type": "code",
   "execution_count": 3,
   "metadata": {},
   "outputs": [
    {
     "data": {
      "text/html": [
       "<div><style>\n",
       ".dataframe > thead > tr,\n",
       ".dataframe > tbody > tr {\n",
       "  text-align: right;\n",
       "  white-space: pre-wrap;\n",
       "}\n",
       "</style>\n",
       "<small>shape: (6_928_123, 4)</small><table border=\"1\" class=\"dataframe\"><thead><tr><th>session</th><th>aid</th><th>ts</th><th>type</th></tr><tr><td>i64</td><td>i64</td><td>i64</td><td>str</td></tr></thead><tbody><tr><td>12899779</td><td>59625</td><td>1661724000278</td><td>&quot;clicks&quot;</td></tr><tr><td>12899780</td><td>1142000</td><td>1661724000378</td><td>&quot;clicks&quot;</td></tr><tr><td>12899780</td><td>582732</td><td>1661724058352</td><td>&quot;clicks&quot;</td></tr><tr><td>12899780</td><td>973453</td><td>1661724109199</td><td>&quot;clicks&quot;</td></tr><tr><td>12899780</td><td>736515</td><td>1661724136868</td><td>&quot;clicks&quot;</td></tr><tr><td>&hellip;</td><td>&hellip;</td><td>&hellip;</td><td>&hellip;</td></tr><tr><td>14571577</td><td>1141710</td><td>1662328774770</td><td>&quot;clicks&quot;</td></tr><tr><td>14571578</td><td>519105</td><td>1662328775009</td><td>&quot;clicks&quot;</td></tr><tr><td>14571579</td><td>739876</td><td>1662328775605</td><td>&quot;clicks&quot;</td></tr><tr><td>14571580</td><td>202353</td><td>1662328781067</td><td>&quot;clicks&quot;</td></tr><tr><td>14571581</td><td>1100210</td><td>1662328791563</td><td>&quot;clicks&quot;</td></tr></tbody></table></div>"
      ],
      "text/plain": [
       "shape: (6_928_123, 4)\n",
       "┌──────────┬─────────┬───────────────┬────────┐\n",
       "│ session  ┆ aid     ┆ ts            ┆ type   │\n",
       "│ ---      ┆ ---     ┆ ---           ┆ ---    │\n",
       "│ i64      ┆ i64     ┆ i64           ┆ str    │\n",
       "╞══════════╪═════════╪═══════════════╪════════╡\n",
       "│ 12899779 ┆ 59625   ┆ 1661724000278 ┆ clicks │\n",
       "│ 12899780 ┆ 1142000 ┆ 1661724000378 ┆ clicks │\n",
       "│ 12899780 ┆ 582732  ┆ 1661724058352 ┆ clicks │\n",
       "│ 12899780 ┆ 973453  ┆ 1661724109199 ┆ clicks │\n",
       "│ 12899780 ┆ 736515  ┆ 1661724136868 ┆ clicks │\n",
       "│ …        ┆ …       ┆ …             ┆ …      │\n",
       "│ 14571577 ┆ 1141710 ┆ 1662328774770 ┆ clicks │\n",
       "│ 14571578 ┆ 519105  ┆ 1662328775009 ┆ clicks │\n",
       "│ 14571579 ┆ 739876  ┆ 1662328775605 ┆ clicks │\n",
       "│ 14571580 ┆ 202353  ┆ 1662328781067 ┆ clicks │\n",
       "│ 14571581 ┆ 1100210 ┆ 1662328791563 ┆ clicks │\n",
       "└──────────┴─────────┴───────────────┴────────┘"
      ]
     },
     "execution_count": 3,
     "metadata": {},
     "output_type": "execute_result"
    }
   ],
   "source": [
    "test = test.explode( \"events\" ).unnest( \"events\" )\n",
    "test"
   ]
  },
  {
   "cell_type": "code",
   "execution_count": 4,
   "metadata": {},
   "outputs": [
    {
     "data": {
      "text/html": [
       "<div><style>\n",
       ".dataframe > thead > tr,\n",
       ".dataframe > tbody > tr {\n",
       "  text-align: right;\n",
       "  white-space: pre-wrap;\n",
       "}\n",
       "</style>\n",
       "<small>shape: (3,)</small><table border=\"1\" class=\"dataframe\"><thead><tr><th>type</th></tr><tr><td>str</td></tr></thead><tbody><tr><td>&quot;clicks&quot;</td></tr><tr><td>&quot;carts&quot;</td></tr><tr><td>&quot;orders&quot;</td></tr></tbody></table></div>"
      ],
      "text/plain": [
       "shape: (3,)\n",
       "Series: 'type' [str]\n",
       "[\n",
       "\t\"clicks\"\n",
       "\t\"carts\"\n",
       "\t\"orders\"\n",
       "]"
      ]
     },
     "execution_count": 4,
     "metadata": {},
     "output_type": "execute_result"
    }
   ],
   "source": [
    "test[\"type\"].unique()"
   ]
  },
  {
   "cell_type": "code",
   "execution_count": 5,
   "metadata": {},
   "outputs": [
    {
     "name": "stdout",
     "output_type": "stream",
     "text": [
      "Number of test events: 6_928_123\n"
     ]
    }
   ],
   "source": [
    "print( f'Number of test events: {test.shape[0]:_}' )"
   ]
  },
  {
   "cell_type": "code",
   "execution_count": 6,
   "metadata": {},
   "outputs": [
    {
     "name": "stdout",
     "output_type": "stream",
     "text": [
      "Number of unique sessions: 1_671_803\n",
      "Number of unique sessions with not only views event: 245_737\n"
     ]
    }
   ],
   "source": [
    "print( f'Number of unique sessions: {test[\"session\"].n_unique():_}' )\n",
    "print( f'Number of unique sessions with not only views event: {test.filter( pl.col(\"type\") != \"clicks\" )[\"session\"].n_unique():_}' )"
   ]
  },
  {
   "cell_type": "code",
   "execution_count": 7,
   "metadata": {},
   "outputs": [
    {
     "data": {
      "text/html": [
       "<div><style>\n",
       ".dataframe > thead > tr,\n",
       ".dataframe > tbody > tr {\n",
       "  text-align: right;\n",
       "  white-space: pre-wrap;\n",
       "}\n",
       "</style>\n",
       "<small>shape: (216_716_096, 4)</small><table border=\"1\" class=\"dataframe\"><thead><tr><th>session</th><th>aid</th><th>ts</th><th>type</th></tr><tr><td>i64</td><td>i64</td><td>i64</td><td>str</td></tr></thead><tbody><tr><td>0</td><td>1517085</td><td>1659304800025</td><td>&quot;clicks&quot;</td></tr><tr><td>0</td><td>1563459</td><td>1659304904511</td><td>&quot;clicks&quot;</td></tr><tr><td>0</td><td>1309446</td><td>1659367439426</td><td>&quot;clicks&quot;</td></tr><tr><td>0</td><td>16246</td><td>1659367719997</td><td>&quot;clicks&quot;</td></tr><tr><td>0</td><td>1781822</td><td>1659367871344</td><td>&quot;clicks&quot;</td></tr><tr><td>&hellip;</td><td>&hellip;</td><td>&hellip;</td><td>&hellip;</td></tr><tr><td>12899776</td><td>1737908</td><td>1661723987073</td><td>&quot;clicks&quot;</td></tr><tr><td>12899777</td><td>384045</td><td>1661723976974</td><td>&quot;clicks&quot;</td></tr><tr><td>12899777</td><td>384045</td><td>1661723986800</td><td>&quot;clicks&quot;</td></tr><tr><td>12899778</td><td>561560</td><td>1661723983611</td><td>&quot;clicks&quot;</td></tr><tr><td>12899778</td><td>32070</td><td>1661723994936</td><td>&quot;clicks&quot;</td></tr></tbody></table></div>"
      ],
      "text/plain": [
       "shape: (216_716_096, 4)\n",
       "┌──────────┬─────────┬───────────────┬────────┐\n",
       "│ session  ┆ aid     ┆ ts            ┆ type   │\n",
       "│ ---      ┆ ---     ┆ ---           ┆ ---    │\n",
       "│ i64      ┆ i64     ┆ i64           ┆ str    │\n",
       "╞══════════╪═════════╪═══════════════╪════════╡\n",
       "│ 0        ┆ 1517085 ┆ 1659304800025 ┆ clicks │\n",
       "│ 0        ┆ 1563459 ┆ 1659304904511 ┆ clicks │\n",
       "│ 0        ┆ 1309446 ┆ 1659367439426 ┆ clicks │\n",
       "│ 0        ┆ 16246   ┆ 1659367719997 ┆ clicks │\n",
       "│ 0        ┆ 1781822 ┆ 1659367871344 ┆ clicks │\n",
       "│ …        ┆ …       ┆ …             ┆ …      │\n",
       "│ 12899776 ┆ 1737908 ┆ 1661723987073 ┆ clicks │\n",
       "│ 12899777 ┆ 384045  ┆ 1661723976974 ┆ clicks │\n",
       "│ 12899777 ┆ 384045  ┆ 1661723986800 ┆ clicks │\n",
       "│ 12899778 ┆ 561560  ┆ 1661723983611 ┆ clicks │\n",
       "│ 12899778 ┆ 32070   ┆ 1661723994936 ┆ clicks │\n",
       "└──────────┴─────────┴───────────────┴────────┘"
      ]
     },
     "execution_count": 7,
     "metadata": {},
     "output_type": "execute_result"
    }
   ],
   "source": [
    "train = pl.read_ndjson( \"/var/tmp/xgregor1/data/otto/train.jsonl\" )\n",
    "train = train.explode( \"events\" ).unnest( \"events\" )\n",
    "\n",
    "train"
   ]
  },
  {
   "cell_type": "code",
   "execution_count": 8,
   "metadata": {},
   "outputs": [
    {
     "name": "stdout",
     "output_type": "stream",
     "text": [
      "Number of train events: 216_716_096\n",
      "Number of unique sessions: 12_899_779\n",
      "Number of unique sessions with not only views event: 3_846_669\n"
     ]
    }
   ],
   "source": [
    "print( f'Number of train events: {train.shape[0]:_}' )\n",
    "print( f'Number of unique sessions: {train[\"session\"].n_unique():_}' )\n",
    "print( f'Number of unique sessions with not only views event: {train.filter( pl.col(\"type\") != \"clicks\" )[\"session\"].n_unique():_}' )"
   ]
  },
  {
   "cell_type": "code",
   "execution_count": 9,
   "metadata": {},
   "outputs": [
    {
     "name": "stdout",
     "output_type": "stream",
     "text": [
      "Number of events in sessions without only view events: 21_995_142\n"
     ]
    }
   ],
   "source": [
    "print( f'Number of events in sessions without only view events: {train.filter( pl.col(\"type\") != \"clicks\" ).shape[0]:_}' )"
   ]
  },
  {
   "cell_type": "code",
   "execution_count": 10,
   "metadata": {},
   "outputs": [],
   "source": [
    "import plotly.express as px\n",
    "import plotly.graph_objects as go"
   ]
  },
  {
   "cell_type": "code",
   "execution_count": 11,
   "metadata": {},
   "outputs": [],
   "source": [
    "# fig = px.histogram( train, x=\"ts\", color=\"type\", nbins=300 )\n",
    "# fig.show() "
   ]
  },
  {
   "cell_type": "code",
   "execution_count": 12,
   "metadata": {},
   "outputs": [
    {
     "data": {
      "text/html": [
       "<div><style>\n",
       ".dataframe > thead > tr,\n",
       ".dataframe > tbody > tr {\n",
       "  text-align: right;\n",
       "  white-space: pre-wrap;\n",
       "}\n",
       "</style>\n",
       "<small>shape: (9, 5)</small><table border=\"1\" class=\"dataframe\"><thead><tr><th>statistic</th><th>session</th><th>aid</th><th>ts</th><th>type</th></tr><tr><td>str</td><td>f64</td><td>f64</td><td>f64</td><td>str</td></tr></thead><tbody><tr><td>&quot;count&quot;</td><td>2.16716096e8</td><td>2.16716096e8</td><td>2.16716096e8</td><td>&quot;216716096&quot;</td></tr><tr><td>&quot;null_count&quot;</td><td>0.0</td><td>0.0</td><td>0.0</td><td>&quot;0&quot;</td></tr><tr><td>&quot;mean&quot;</td><td>4.7028e6</td><td>928805.229105</td><td>1.6605e12</td><td>null</td></tr><tr><td>&quot;std&quot;</td><td>3.6650e6</td><td>536691.747782</td><td>6.9615e8</td><td>null</td></tr><tr><td>&quot;min&quot;</td><td>0.0</td><td>0.0</td><td>1.6593e12</td><td>&quot;carts&quot;</td></tr><tr><td>&quot;25%&quot;</td><td>1.456817e6</td><td>467421.0</td><td>1.6599e12</td><td>null</td></tr><tr><td>&quot;50%&quot;</td><td>3.915777e6</td><td>928109.0</td><td>1.6605e12</td><td>null</td></tr><tr><td>&quot;75%&quot;</td><td>7.468753e6</td><td>1.394862e6</td><td>1.6611e12</td><td>null</td></tr><tr><td>&quot;max&quot;</td><td>1.2899778e7</td><td>1.855602e6</td><td>1.6617e12</td><td>&quot;orders&quot;</td></tr></tbody></table></div>"
      ],
      "text/plain": [
       "shape: (9, 5)\n",
       "┌────────────┬──────────────┬───────────────┬──────────────┬───────────┐\n",
       "│ statistic  ┆ session      ┆ aid           ┆ ts           ┆ type      │\n",
       "│ ---        ┆ ---          ┆ ---           ┆ ---          ┆ ---       │\n",
       "│ str        ┆ f64          ┆ f64           ┆ f64          ┆ str       │\n",
       "╞════════════╪══════════════╪═══════════════╪══════════════╪═══════════╡\n",
       "│ count      ┆ 2.16716096e8 ┆ 2.16716096e8  ┆ 2.16716096e8 ┆ 216716096 │\n",
       "│ null_count ┆ 0.0          ┆ 0.0           ┆ 0.0          ┆ 0         │\n",
       "│ mean       ┆ 4.7028e6     ┆ 928805.229105 ┆ 1.6605e12    ┆ null      │\n",
       "│ std        ┆ 3.6650e6     ┆ 536691.747782 ┆ 6.9615e8     ┆ null      │\n",
       "│ min        ┆ 0.0          ┆ 0.0           ┆ 1.6593e12    ┆ carts     │\n",
       "│ 25%        ┆ 1.456817e6   ┆ 467421.0      ┆ 1.6599e12    ┆ null      │\n",
       "│ 50%        ┆ 3.915777e6   ┆ 928109.0      ┆ 1.6605e12    ┆ null      │\n",
       "│ 75%        ┆ 7.468753e6   ┆ 1.394862e6    ┆ 1.6611e12    ┆ null      │\n",
       "│ max        ┆ 1.2899778e7  ┆ 1.855602e6    ┆ 1.6617e12    ┆ orders    │\n",
       "└────────────┴──────────────┴───────────────┴──────────────┴───────────┘"
      ]
     },
     "execution_count": 12,
     "metadata": {},
     "output_type": "execute_result"
    }
   ],
   "source": [
    "train.describe()"
   ]
  },
  {
   "cell_type": "code",
   "execution_count": 13,
   "metadata": {},
   "outputs": [
    {
     "name": "stdout",
     "output_type": "stream",
     "text": [
      "Train from 2022-08-01 to 2022-08-28\n",
      "Test from 2022-08-29 to 2022-09-04\n"
     ]
    }
   ],
   "source": [
    "from datetime import datetime\n",
    "\n",
    "test_ts_min = datetime.fromtimestamp( test[\"ts\"].min() / 1000 )\n",
    "test_ts_max = datetime.fromtimestamp( test[\"ts\"].max() / 1000 )\n",
    "\n",
    "train_ts_min = datetime.fromtimestamp( train[\"ts\"].min() / 1000 )\n",
    "train_ts_max = datetime.fromtimestamp( train[\"ts\"].max() / 1000 )\n",
    "\n",
    "print( f'Train from {train_ts_min.date()} to {train_ts_max.date()}' )\n",
    "print( f'Test from {test_ts_min.date()} to {test_ts_max.date()}' )\n"
   ]
  },
  {
   "cell_type": "code",
   "execution_count": 14,
   "metadata": {},
   "outputs": [
    {
     "data": {
      "text/plain": [
       "216716096"
      ]
     },
     "execution_count": 14,
     "metadata": {},
     "output_type": "execute_result"
    }
   ],
   "source": [
    "train.shape[0]"
   ]
  },
  {
   "cell_type": "code",
   "execution_count": 15,
   "metadata": {},
   "outputs": [],
   "source": [
    "train = train.sort( pl.col(\"ts\") )"
   ]
  },
  {
   "cell_type": "code",
   "execution_count": 16,
   "metadata": {},
   "outputs": [
    {
     "name": "stdout",
     "output_type": "stream",
     "text": [
      "Last 50m events from 2022-08-22 to 2022-08-28\n"
     ]
    }
   ],
   "source": [
    "last_50m = train.tail( 50_000_000 )\n",
    "\n",
    "last_50m_ts_min = datetime.fromtimestamp( last_50m[\"ts\"].min() / 1000 )\n",
    "last_50m_ts_max = datetime.fromtimestamp( last_50m[\"ts\"].max() / 1000 )\n",
    "\n",
    "print( f'Last 50m events from {last_50m_ts_min.date()} to {last_50m_ts_max.date()}' )"
   ]
  },
  {
   "cell_type": "code",
   "execution_count": 17,
   "metadata": {},
   "outputs": [
    {
     "data": {
      "text/html": [
       "<div><style>\n",
       ".dataframe > thead > tr,\n",
       ".dataframe > tbody > tr {\n",
       "  text-align: right;\n",
       "  white-space: pre-wrap;\n",
       "}\n",
       "</style>\n",
       "<small>shape: (9, 5)</small><table border=\"1\" class=\"dataframe\"><thead><tr><th>statistic</th><th>session</th><th>aid</th><th>ts</th><th>type</th></tr><tr><td>str</td><td>f64</td><td>f64</td><td>f64</td><td>str</td></tr></thead><tbody><tr><td>&quot;count&quot;</td><td>5e7</td><td>5e7</td><td>5e7</td><td>&quot;50000000&quot;</td></tr><tr><td>&quot;null_count&quot;</td><td>0.0</td><td>0.0</td><td>0.0</td><td>&quot;0&quot;</td></tr><tr><td>&quot;mean&quot;</td><td>6.5653e6</td><td>927330.342202</td><td>1.6615e12</td><td>null</td></tr><tr><td>&quot;std&quot;</td><td>4.4965e6</td><td>537564.393936</td><td>1.7056e8</td><td>null</td></tr><tr><td>&quot;min&quot;</td><td>0.0</td><td>0.0</td><td>1.6612e12</td><td>&quot;carts&quot;</td></tr><tr><td>&quot;25%&quot;</td><td>2.148575e6</td><td>465128.0</td><td>1.6613e12</td><td>null</td></tr><tr><td>&quot;50%&quot;</td><td>6.21363e6</td><td>925754.0</td><td>1.6615e12</td><td>null</td></tr><tr><td>&quot;75%&quot;</td><td>1.1406157e7</td><td>1.394787e6</td><td>1.6616e12</td><td>null</td></tr><tr><td>&quot;max&quot;</td><td>1.2899778e7</td><td>1.855602e6</td><td>1.6617e12</td><td>&quot;orders&quot;</td></tr></tbody></table></div>"
      ],
      "text/plain": [
       "shape: (9, 5)\n",
       "┌────────────┬─────────────┬───────────────┬───────────┬──────────┐\n",
       "│ statistic  ┆ session     ┆ aid           ┆ ts        ┆ type     │\n",
       "│ ---        ┆ ---         ┆ ---           ┆ ---       ┆ ---      │\n",
       "│ str        ┆ f64         ┆ f64           ┆ f64       ┆ str      │\n",
       "╞════════════╪═════════════╪═══════════════╪═══════════╪══════════╡\n",
       "│ count      ┆ 5e7         ┆ 5e7           ┆ 5e7       ┆ 50000000 │\n",
       "│ null_count ┆ 0.0         ┆ 0.0           ┆ 0.0       ┆ 0        │\n",
       "│ mean       ┆ 6.5653e6    ┆ 927330.342202 ┆ 1.6615e12 ┆ null     │\n",
       "│ std        ┆ 4.4965e6    ┆ 537564.393936 ┆ 1.7056e8  ┆ null     │\n",
       "│ min        ┆ 0.0         ┆ 0.0           ┆ 1.6612e12 ┆ carts    │\n",
       "│ 25%        ┆ 2.148575e6  ┆ 465128.0      ┆ 1.6613e12 ┆ null     │\n",
       "│ 50%        ┆ 6.21363e6   ┆ 925754.0      ┆ 1.6615e12 ┆ null     │\n",
       "│ 75%        ┆ 1.1406157e7 ┆ 1.394787e6    ┆ 1.6616e12 ┆ null     │\n",
       "│ max        ┆ 1.2899778e7 ┆ 1.855602e6    ┆ 1.6617e12 ┆ orders   │\n",
       "└────────────┴─────────────┴───────────────┴───────────┴──────────┘"
      ]
     },
     "execution_count": 17,
     "metadata": {},
     "output_type": "execute_result"
    }
   ],
   "source": [
    "last_50m.describe()"
   ]
  },
  {
   "cell_type": "code",
   "execution_count": 18,
   "metadata": {},
   "outputs": [],
   "source": [
    "train_counts = train.group_by( pl.col( \"session\" ) ).len()\n",
    "\n",
    "fig = px.histogram( train_counts, x=\"len\" )\n",
    "# fig.show()"
   ]
  },
  {
   "cell_type": "code",
   "execution_count": 19,
   "metadata": {},
   "outputs": [
    {
     "data": {
      "text/plain": [
       "500"
      ]
     },
     "execution_count": 19,
     "metadata": {},
     "output_type": "execute_result"
    }
   ],
   "source": [
    "train_counts[\"len\"].max()"
   ]
  },
  {
   "cell_type": "code",
   "execution_count": 20,
   "metadata": {},
   "outputs": [],
   "source": [
    "last_50m_counts = last_50m.group_by( pl.col( \"session\" ) ).len()\n",
    "\n",
    "fig = px.histogram( last_50m_counts, x=\"len\" )\n",
    "# fig.show()"
   ]
  },
  {
   "cell_type": "code",
   "execution_count": 21,
   "metadata": {},
   "outputs": [
    {
     "name": "stdout",
     "output_type": "stream",
     "text": [
      "Original len median: 6.0\n",
      "Truncated len median: 4.0\n"
     ]
    }
   ],
   "source": [
    "print( f'Original len median: { train_counts[\"len\"].median() }' )\n",
    "print( f'Truncated len median: { last_50m_counts[\"len\"].median() }' )"
   ]
  },
  {
   "cell_type": "code",
   "execution_count": 22,
   "metadata": {},
   "outputs": [],
   "source": [
    "train_df = pl.read_ndjson( \"/var/tmp/xgregor1/data/otto/train.jsonl\" )"
   ]
  },
  {
   "cell_type": "code",
   "execution_count": 23,
   "metadata": {},
   "outputs": [],
   "source": [
    "train_agg = train_df.explode( \"events\" )\\\n",
    "    .unnest( \"events\" )\\\n",
    "    .group_by( \"session\" )\\\n",
    "    .agg(\n",
    "        min_ts=pl.col( \"ts\" ).min(), \n",
    "        max_ts=pl.col( \"ts\" ).max(), \n",
    "        len=pl.col( \"ts\" ).len(),\n",
    "        unique_types=pl.col( \"type\" ).n_unique(),\n",
    "        unique_values=pl.col( \"type\" ).unique()\n",
    "    )"
   ]
  },
  {
   "cell_type": "code",
   "execution_count": 24,
   "metadata": {},
   "outputs": [],
   "source": [
    "train_df = train_df.join( train_agg, on=\"session\" )"
   ]
  },
  {
   "cell_type": "code",
   "execution_count": 25,
   "metadata": {},
   "outputs": [
    {
     "data": {
      "text/html": [
       "<div><style>\n",
       ".dataframe > thead > tr,\n",
       ".dataframe > tbody > tr {\n",
       "  text-align: right;\n",
       "  white-space: pre-wrap;\n",
       "}\n",
       "</style>\n",
       "<small>shape: (9, 8)</small><table border=\"1\" class=\"dataframe\"><thead><tr><th>statistic</th><th>session</th><th>events</th><th>min_ts</th><th>max_ts</th><th>len</th><th>unique_types</th><th>unique_values</th></tr><tr><td>str</td><td>f64</td><td>f64</td><td>f64</td><td>f64</td><td>f64</td><td>f64</td><td>f64</td></tr></thead><tbody><tr><td>&quot;count&quot;</td><td>1.2899779e7</td><td>1.2899779e7</td><td>1.2899779e7</td><td>1.2899779e7</td><td>1.2899779e7</td><td>1.2899779e7</td><td>1.2899779e7</td></tr><tr><td>&quot;null_count&quot;</td><td>0.0</td><td>0.0</td><td>0.0</td><td>0.0</td><td>0.0</td><td>0.0</td><td>0.0</td></tr><tr><td>&quot;mean&quot;</td><td>6.449889e6</td><td>null</td><td>1.6602e12</td><td>1.6608e12</td><td>16.799985</td><td>1.421483</td><td>null</td></tr><tr><td>&quot;std&quot;</td><td>3.7238e6</td><td>null</td><td>6.9125e8</td><td>6.8843e8</td><td>33.57738</td><td>0.700292</td><td>null</td></tr><tr><td>&quot;min&quot;</td><td>0.0</td><td>null</td><td>1.6593e12</td><td>1.6593e12</td><td>2.0</td><td>1.0</td><td>null</td></tr><tr><td>&quot;25%&quot;</td><td>3.224945e6</td><td>null</td><td>1.6596e12</td><td>1.6603e12</td><td>3.0</td><td>1.0</td><td>null</td></tr><tr><td>&quot;50%&quot;</td><td>6.449889e6</td><td>null</td><td>1.6601e12</td><td>1.6609e12</td><td>6.0</td><td>1.0</td><td>null</td></tr><tr><td>&quot;75%&quot;</td><td>9.674834e6</td><td>null</td><td>1.6607e12</td><td>1.6614e12</td><td>15.0</td><td>2.0</td><td>null</td></tr><tr><td>&quot;max&quot;</td><td>1.2899778e7</td><td>null</td><td>1.6617e12</td><td>1.6617e12</td><td>500.0</td><td>3.0</td><td>null</td></tr></tbody></table></div>"
      ],
      "text/plain": [
       "shape: (9, 8)\n",
       "┌────────────┬────────────┬────────────┬───────────┬───────────┬───────────┬───────────┬───────────┐\n",
       "│ statistic  ┆ session    ┆ events     ┆ min_ts    ┆ max_ts    ┆ len       ┆ unique_ty ┆ unique_va │\n",
       "│ ---        ┆ ---        ┆ ---        ┆ ---       ┆ ---       ┆ ---       ┆ pes       ┆ lues      │\n",
       "│ str        ┆ f64        ┆ f64        ┆ f64       ┆ f64       ┆ f64       ┆ ---       ┆ ---       │\n",
       "│            ┆            ┆            ┆           ┆           ┆           ┆ f64       ┆ f64       │\n",
       "╞════════════╪════════════╪════════════╪═══════════╪═══════════╪═══════════╪═══════════╪═══════════╡\n",
       "│ count      ┆ 1.2899779e ┆ 1.2899779e ┆ 1.2899779 ┆ 1.2899779 ┆ 1.2899779 ┆ 1.2899779 ┆ 1.2899779 │\n",
       "│            ┆ 7          ┆ 7          ┆ e7        ┆ e7        ┆ e7        ┆ e7        ┆ e7        │\n",
       "│ null_count ┆ 0.0        ┆ 0.0        ┆ 0.0       ┆ 0.0       ┆ 0.0       ┆ 0.0       ┆ 0.0       │\n",
       "│ mean       ┆ 6.449889e6 ┆ null       ┆ 1.6602e12 ┆ 1.6608e12 ┆ 16.799985 ┆ 1.421483  ┆ null      │\n",
       "│ std        ┆ 3.7238e6   ┆ null       ┆ 6.9125e8  ┆ 6.8843e8  ┆ 33.57738  ┆ 0.700292  ┆ null      │\n",
       "│ min        ┆ 0.0        ┆ null       ┆ 1.6593e12 ┆ 1.6593e12 ┆ 2.0       ┆ 1.0       ┆ null      │\n",
       "│ 25%        ┆ 3.224945e6 ┆ null       ┆ 1.6596e12 ┆ 1.6603e12 ┆ 3.0       ┆ 1.0       ┆ null      │\n",
       "│ 50%        ┆ 6.449889e6 ┆ null       ┆ 1.6601e12 ┆ 1.6609e12 ┆ 6.0       ┆ 1.0       ┆ null      │\n",
       "│ 75%        ┆ 9.674834e6 ┆ null       ┆ 1.6607e12 ┆ 1.6614e12 ┆ 15.0      ┆ 2.0       ┆ null      │\n",
       "│ max        ┆ 1.2899778e ┆ null       ┆ 1.6617e12 ┆ 1.6617e12 ┆ 500.0     ┆ 3.0       ┆ null      │\n",
       "│            ┆ 7          ┆            ┆           ┆           ┆           ┆           ┆           │\n",
       "└────────────┴────────────┴────────────┴───────────┴───────────┴───────────┴───────────┴───────────┘"
      ]
     },
     "execution_count": 25,
     "metadata": {},
     "output_type": "execute_result"
    }
   ],
   "source": [
    "train_df.describe()"
   ]
  },
  {
   "cell_type": "code",
   "execution_count": 26,
   "metadata": {},
   "outputs": [
    {
     "data": {
      "text/html": [
       "<div><style>\n",
       ".dataframe > thead > tr,\n",
       ".dataframe > tbody > tr {\n",
       "  text-align: right;\n",
       "  white-space: pre-wrap;\n",
       "}\n",
       "</style>\n",
       "<small>shape: (0, 7)</small><table border=\"1\" class=\"dataframe\"><thead><tr><th>session</th><th>events</th><th>min_ts</th><th>max_ts</th><th>len</th><th>unique_types</th><th>unique_values</th></tr><tr><td>i64</td><td>list[struct[3]]</td><td>i64</td><td>i64</td><td>u32</td><td>u32</td><td>list[str]</td></tr></thead><tbody></tbody></table></div>"
      ],
      "text/plain": [
       "shape: (0, 7)\n",
       "┌─────────┬─────────────────┬────────┬────────┬─────┬──────────────┬───────────────┐\n",
       "│ session ┆ events          ┆ min_ts ┆ max_ts ┆ len ┆ unique_types ┆ unique_values │\n",
       "│ ---     ┆ ---             ┆ ---    ┆ ---    ┆ --- ┆ ---          ┆ ---           │\n",
       "│ i64     ┆ list[struct[3]] ┆ i64    ┆ i64    ┆ u32 ┆ u32          ┆ list[str]     │\n",
       "╞═════════╪═════════════════╪════════╪════════╪═════╪══════════════╪═══════════════╡\n",
       "└─────────┴─────────────────┴────────┴────────┴─────┴──────────────┴───────────────┘"
      ]
     },
     "execution_count": 26,
     "metadata": {},
     "output_type": "execute_result"
    }
   ],
   "source": [
    "train_df.filter( (pl.col( \"unique_types\" ) == 1) & (pl.col( \"unique_values\" ).list.first() != \"clicks\") )"
   ]
  },
  {
   "cell_type": "code",
   "execution_count": 27,
   "metadata": {},
   "outputs": [
    {
     "data": {
      "text/html": [
       "<div><style>\n",
       ".dataframe > thead > tr,\n",
       ".dataframe > tbody > tr {\n",
       "  text-align: right;\n",
       "  white-space: pre-wrap;\n",
       "}\n",
       "</style>\n",
       "<small>shape: (3_846_669, 7)</small><table border=\"1\" class=\"dataframe\"><thead><tr><th>session</th><th>events</th><th>min_ts</th><th>max_ts</th><th>len</th><th>unique_types</th><th>unique_values</th></tr><tr><td>i64</td><td>list[struct[3]]</td><td>i64</td><td>i64</td><td>u32</td><td>u32</td><td>list[str]</td></tr></thead><tbody><tr><td>11192522</td><td>[{1076558,1661166813784,&quot;clicks&quot;}, {1076558,1661166942845,&quot;clicks&quot;}, … {1076558,1661167630719,&quot;orders&quot;}]</td><td>1661166813784</td><td>1661167630719</td><td>14</td><td>3</td><td>[&quot;orders&quot;, &quot;clicks&quot;, &quot;carts&quot;]</td></tr><tr><td>1862909</td><td>[{119591,1659459696430,&quot;clicks&quot;}, {119591,1659459714435,&quot;carts&quot;}, … {718252,1659608503382,&quot;clicks&quot;}]</td><td>1659459696430</td><td>1659608503382</td><td>9</td><td>3</td><td>[&quot;carts&quot;, &quot;clicks&quot;, &quot;orders&quot;]</td></tr><tr><td>3822160</td><td>[{92706,1659684971015,&quot;clicks&quot;}, {92706,1659684991255,&quot;carts&quot;}, … {1219940,1661335638999,&quot;clicks&quot;}]</td><td>1659684971015</td><td>1661335638999</td><td>244</td><td>3</td><td>[&quot;orders&quot;, &quot;clicks&quot;, &quot;carts&quot;]</td></tr><tr><td>11202222</td><td>[{1498161,1661168961662,&quot;clicks&quot;}, {1498161,1661168990294,&quot;carts&quot;}, … {1498161,1661172214578,&quot;orders&quot;}]</td><td>1661168961662</td><td>1661172214578</td><td>21</td><td>3</td><td>[&quot;orders&quot;, &quot;carts&quot;, &quot;clicks&quot;]</td></tr><tr><td>8441417</td><td>[{1048234,1660492099612,&quot;clicks&quot;}, {854849,1660492130630,&quot;carts&quot;}, … {61751,1660916806868,&quot;clicks&quot;}]</td><td>1660492099612</td><td>1660916806868</td><td>19</td><td>2</td><td>[&quot;carts&quot;, &quot;clicks&quot;]</td></tr><tr><td>&hellip;</td><td>&hellip;</td><td>&hellip;</td><td>&hellip;</td><td>&hellip;</td><td>&hellip;</td><td>&hellip;</td></tr><tr><td>390093</td><td>[{611592,1659347469200,&quot;clicks&quot;}, {659153,1659347578765,&quot;clicks&quot;}, … {1802596,1661394428708,&quot;clicks&quot;}]</td><td>1659347469200</td><td>1661394428708</td><td>58</td><td>3</td><td>[&quot;orders&quot;, &quot;clicks&quot;, &quot;carts&quot;]</td></tr><tr><td>9079381</td><td>[{1733620,1660593868474,&quot;clicks&quot;}, {538711,1660594075063,&quot;clicks&quot;}, … {770208,1660595124693,&quot;clicks&quot;}]</td><td>1660593868474</td><td>1660595124693</td><td>11</td><td>2</td><td>[&quot;clicks&quot;, &quot;carts&quot;]</td></tr><tr><td>5498146</td><td>[{654609,1659958270168,&quot;clicks&quot;}, {1450355,1659958630994,&quot;clicks&quot;}, … {802004,1659960132781,&quot;clicks&quot;}]</td><td>1659958270168</td><td>1659960132781</td><td>23</td><td>2</td><td>[&quot;carts&quot;, &quot;clicks&quot;]</td></tr><tr><td>12677393</td><td>[{1438759,1661677124218,&quot;clicks&quot;}, {603225,1661677188166,&quot;clicks&quot;}, … {1503306,1661677371208,&quot;clicks&quot;}]</td><td>1661677124218</td><td>1661677371208</td><td>6</td><td>2</td><td>[&quot;clicks&quot;, &quot;carts&quot;]</td></tr><tr><td>2678879</td><td>[{1156699,1659540654143,&quot;clicks&quot;}, {234143,1659882564386,&quot;clicks&quot;}, … {1328556,1661264856384,&quot;clicks&quot;}]</td><td>1659540654143</td><td>1661264856384</td><td>16</td><td>2</td><td>[&quot;clicks&quot;, &quot;carts&quot;]</td></tr></tbody></table></div>"
      ],
      "text/plain": [
       "shape: (3_846_669, 7)\n",
       "┌──────────┬─────────────────┬───────────────┬───────────────┬─────┬──────────────┬────────────────┐\n",
       "│ session  ┆ events          ┆ min_ts        ┆ max_ts        ┆ len ┆ unique_types ┆ unique_values  │\n",
       "│ ---      ┆ ---             ┆ ---           ┆ ---           ┆ --- ┆ ---          ┆ ---            │\n",
       "│ i64      ┆ list[struct[3]] ┆ i64           ┆ i64           ┆ u32 ┆ u32          ┆ list[str]      │\n",
       "╞══════════╪═════════════════╪═══════════════╪═══════════════╪═════╪══════════════╪════════════════╡\n",
       "│ 11192522 ┆ [{1076558,16611 ┆ 1661166813784 ┆ 1661167630719 ┆ 14  ┆ 3            ┆ [\"orders\",     │\n",
       "│          ┆ 66813784,\"click ┆               ┆               ┆     ┆              ┆ \"clicks\",      │\n",
       "│          ┆ s\"…             ┆               ┆               ┆     ┆              ┆ \"carts\"]       │\n",
       "│ 1862909  ┆ [{119591,165945 ┆ 1659459696430 ┆ 1659608503382 ┆ 9   ┆ 3            ┆ [\"carts\",      │\n",
       "│          ┆ 9696430,\"clicks ┆               ┆               ┆     ┆              ┆ \"clicks\",      │\n",
       "│          ┆ \"}…             ┆               ┆               ┆     ┆              ┆ \"orders\"]      │\n",
       "│ 3822160  ┆ [{92706,1659684 ┆ 1659684971015 ┆ 1661335638999 ┆ 244 ┆ 3            ┆ [\"orders\",     │\n",
       "│          ┆ 971015,\"clicks\" ┆               ┆               ┆     ┆              ┆ \"clicks\",      │\n",
       "│          ┆ },…             ┆               ┆               ┆     ┆              ┆ \"carts\"]       │\n",
       "│ 11202222 ┆ [{1498161,16611 ┆ 1661168961662 ┆ 1661172214578 ┆ 21  ┆ 3            ┆ [\"orders\",     │\n",
       "│          ┆ 68961662,\"click ┆               ┆               ┆     ┆              ┆ \"carts\",       │\n",
       "│          ┆ s\"…             ┆               ┆               ┆     ┆              ┆ \"clicks\"]      │\n",
       "│ 8441417  ┆ [{1048234,16604 ┆ 1660492099612 ┆ 1660916806868 ┆ 19  ┆ 2            ┆ [\"carts\",      │\n",
       "│          ┆ 92099612,\"click ┆               ┆               ┆     ┆              ┆ \"clicks\"]      │\n",
       "│          ┆ s\"…             ┆               ┆               ┆     ┆              ┆                │\n",
       "│ …        ┆ …               ┆ …             ┆ …             ┆ …   ┆ …            ┆ …              │\n",
       "│ 390093   ┆ [{611592,165934 ┆ 1659347469200 ┆ 1661394428708 ┆ 58  ┆ 3            ┆ [\"orders\",     │\n",
       "│          ┆ 7469200,\"clicks ┆               ┆               ┆     ┆              ┆ \"clicks\",      │\n",
       "│          ┆ \"}…             ┆               ┆               ┆     ┆              ┆ \"carts\"]       │\n",
       "│ 9079381  ┆ [{1733620,16605 ┆ 1660593868474 ┆ 1660595124693 ┆ 11  ┆ 2            ┆ [\"clicks\",     │\n",
       "│          ┆ 93868474,\"click ┆               ┆               ┆     ┆              ┆ \"carts\"]       │\n",
       "│          ┆ s\"…             ┆               ┆               ┆     ┆              ┆                │\n",
       "│ 5498146  ┆ [{654609,165995 ┆ 1659958270168 ┆ 1659960132781 ┆ 23  ┆ 2            ┆ [\"carts\",      │\n",
       "│          ┆ 8270168,\"clicks ┆               ┆               ┆     ┆              ┆ \"clicks\"]      │\n",
       "│          ┆ \"}…             ┆               ┆               ┆     ┆              ┆                │\n",
       "│ 12677393 ┆ [{1438759,16616 ┆ 1661677124218 ┆ 1661677371208 ┆ 6   ┆ 2            ┆ [\"clicks\",     │\n",
       "│          ┆ 77124218,\"click ┆               ┆               ┆     ┆              ┆ \"carts\"]       │\n",
       "│          ┆ s\"…             ┆               ┆               ┆     ┆              ┆                │\n",
       "│ 2678879  ┆ [{1156699,16595 ┆ 1659540654143 ┆ 1661264856384 ┆ 16  ┆ 2            ┆ [\"clicks\",     │\n",
       "│          ┆ 40654143,\"click ┆               ┆               ┆     ┆              ┆ \"carts\"]       │\n",
       "│          ┆ s\"…             ┆               ┆               ┆     ┆              ┆                │\n",
       "└──────────┴─────────────────┴───────────────┴───────────────┴─────┴──────────────┴────────────────┘"
      ]
     },
     "execution_count": 27,
     "metadata": {},
     "output_type": "execute_result"
    }
   ],
   "source": [
    "train_df = train_df.filter( pl.col( \"unique_types\" ) != 1 )\n",
    "train_df"
   ]
  },
  {
   "cell_type": "code",
   "execution_count": 28,
   "metadata": {},
   "outputs": [
    {
     "data": {
      "text/plain": [
       "'143_170_192'"
      ]
     },
     "execution_count": 28,
     "metadata": {},
     "output_type": "execute_result"
    }
   ],
   "source": [
    "f'{train_df[\"len\"].sum():_}'"
   ]
  },
  {
   "cell_type": "code",
   "execution_count": 29,
   "metadata": {},
   "outputs": [],
   "source": [
    "train_df_nv_e = train_df.explode(\"events\").unnest(\"events\")"
   ]
  },
  {
   "cell_type": "code",
   "execution_count": 30,
   "metadata": {},
   "outputs": [],
   "source": [
    "ts_split = train_df_nv_e[\"ts\"].quantile( 0.75 )"
   ]
  },
  {
   "cell_type": "code",
   "execution_count": 31,
   "metadata": {},
   "outputs": [],
   "source": [
    "before = train_df.filter( pl.col( \"max_ts\" ) < ts_split )\n",
    "after = train_df.filter( pl.col( \"min_ts\" ) > ts_split )\n",
    "inbetween = train_df.filter( (pl.col( \"max_ts\" ) >= ts_split) & (pl.col( \"min_ts\" ) <= ts_split) )"
   ]
  },
  {
   "cell_type": "code",
   "execution_count": 32,
   "metadata": {},
   "outputs": [
    {
     "data": {
      "text/plain": [
       "'93_980_250'"
      ]
     },
     "execution_count": 32,
     "metadata": {},
     "output_type": "execute_result"
    }
   ],
   "source": [
    "f'{inbetween[\"len\"].sum():_}'"
   ]
  },
  {
   "cell_type": "code",
   "execution_count": 33,
   "metadata": {},
   "outputs": [
    {
     "data": {
      "text/plain": [
       "'41_208_960'"
      ]
     },
     "execution_count": 33,
     "metadata": {},
     "output_type": "execute_result"
    }
   ],
   "source": [
    "f'{before[\"len\"].sum():_}'"
   ]
  },
  {
   "cell_type": "code",
   "execution_count": 34,
   "metadata": {},
   "outputs": [
    {
     "data": {
      "text/plain": [
       "'7_980_982'"
      ]
     },
     "execution_count": 34,
     "metadata": {},
     "output_type": "execute_result"
    }
   ],
   "source": [
    "f'{after[\"len\"].sum():_}'"
   ]
  },
  {
   "cell_type": "code",
   "execution_count": 35,
   "metadata": {},
   "outputs": [
    {
     "data": {
      "text/html": [
       "<div><style>\n",
       ".dataframe > thead > tr,\n",
       ".dataframe > tbody > tr {\n",
       "  text-align: right;\n",
       "  white-space: pre-wrap;\n",
       "}\n",
       "</style>\n",
       "<small>shape: (3,)</small><table border=\"1\" class=\"dataframe\"><thead><tr><th>type</th></tr><tr><td>u32</td></tr></thead><tbody><tr><td>6234309</td></tr><tr><td>1333761</td></tr><tr><td>412912</td></tr></tbody></table></div>"
      ],
      "text/plain": [
       "shape: (3,)\n",
       "Series: 'type' [u32]\n",
       "[\n",
       "\t6234309\n",
       "\t1333761\n",
       "\t412912\n",
       "]"
      ]
     },
     "execution_count": 35,
     "metadata": {},
     "output_type": "execute_result"
    }
   ],
   "source": [
    "after.explode( \"events\" ).unnest( \"events\" )[\"type\"].unique_counts()"
   ]
  },
  {
   "cell_type": "code",
   "execution_count": 36,
   "metadata": {},
   "outputs": [],
   "source": [
    "after_labels = after.explode( \"events\" ).unnest( \"events\" ).filter( pl.col( \"type\" ) == \"carts\" )\n",
    "after_labels = after_labels.rename({\n",
    "    \"aid\": \"label\",\n",
    "    \"ts\": \"label_ts\"\n",
    "})\n",
    "\n",
    "after = after.join( after_labels[[\"session\", \"label\", \"label_ts\"]], on=\"session\" )"
   ]
  },
  {
   "cell_type": "code",
   "execution_count": 37,
   "metadata": {},
   "outputs": [
    {
     "data": {
      "text/html": [
       "<div><style>\n",
       ".dataframe > thead > tr,\n",
       ".dataframe > tbody > tr {\n",
       "  text-align: right;\n",
       "  white-space: pre-wrap;\n",
       "}\n",
       "</style>\n",
       "<small>shape: (1_333_761, 9)</small><table border=\"1\" class=\"dataframe\"><thead><tr><th>session</th><th>events</th><th>min_ts</th><th>max_ts</th><th>len</th><th>unique_types</th><th>unique_values</th><th>label</th><th>label_ts</th></tr><tr><td>i64</td><td>list[struct[3]]</td><td>i64</td><td>i64</td><td>u32</td><td>u32</td><td>list[str]</td><td>i64</td><td>i64</td></tr></thead><tbody><tr><td>11192522</td><td>[{1076558,1661166813784,&quot;clicks&quot;}, {1076558,1661166942845,&quot;clicks&quot;}, … {1076558,1661167630719,&quot;orders&quot;}]</td><td>1661166813784</td><td>1661167630719</td><td>14</td><td>3</td><td>[&quot;orders&quot;, &quot;clicks&quot;, &quot;carts&quot;]</td><td>1076558</td><td>1661166976771</td></tr><tr><td>11192522</td><td>[{1076558,1661166813784,&quot;clicks&quot;}, {1076558,1661166942845,&quot;clicks&quot;}, … {1076558,1661167630719,&quot;orders&quot;}]</td><td>1661166813784</td><td>1661167630719</td><td>14</td><td>3</td><td>[&quot;orders&quot;, &quot;clicks&quot;, &quot;carts&quot;]</td><td>1076558</td><td>1661166992236</td></tr><tr><td>11202222</td><td>[{1498161,1661168961662,&quot;clicks&quot;}, {1498161,1661168990294,&quot;carts&quot;}, … {1498161,1661172214578,&quot;orders&quot;}]</td><td>1661168961662</td><td>1661172214578</td><td>21</td><td>3</td><td>[&quot;orders&quot;, &quot;carts&quot;, &quot;clicks&quot;]</td><td>1498161</td><td>1661168990294</td></tr><tr><td>11202222</td><td>[{1498161,1661168961662,&quot;clicks&quot;}, {1498161,1661168990294,&quot;carts&quot;}, … {1498161,1661172214578,&quot;orders&quot;}]</td><td>1661168961662</td><td>1661172214578</td><td>21</td><td>3</td><td>[&quot;orders&quot;, &quot;carts&quot;, &quot;clicks&quot;]</td><td>42283</td><td>1661169192920</td></tr><tr><td>11202222</td><td>[{1498161,1661168961662,&quot;clicks&quot;}, {1498161,1661168990294,&quot;carts&quot;}, … {1498161,1661172214578,&quot;orders&quot;}]</td><td>1661168961662</td><td>1661172214578</td><td>21</td><td>3</td><td>[&quot;orders&quot;, &quot;carts&quot;, &quot;clicks&quot;]</td><td>1551504</td><td>1661170293721</td></tr><tr><td>&hellip;</td><td>&hellip;</td><td>&hellip;</td><td>&hellip;</td><td>&hellip;</td><td>&hellip;</td><td>&hellip;</td><td>&hellip;</td><td>&hellip;</td></tr><tr><td>11737419</td><td>[{277662,1661335134481,&quot;clicks&quot;}, {120108,1661335152529,&quot;carts&quot;}, … {1323678,1661335466924,&quot;orders&quot;}]</td><td>1661335134481</td><td>1661335466924</td><td>11</td><td>3</td><td>[&quot;carts&quot;, &quot;clicks&quot;, &quot;orders&quot;]</td><td>120108</td><td>1661335152529</td></tr><tr><td>11737419</td><td>[{277662,1661335134481,&quot;clicks&quot;}, {120108,1661335152529,&quot;carts&quot;}, … {1323678,1661335466924,&quot;orders&quot;}]</td><td>1661335134481</td><td>1661335466924</td><td>11</td><td>3</td><td>[&quot;carts&quot;, &quot;clicks&quot;, &quot;orders&quot;]</td><td>1128670</td><td>1661335225084</td></tr><tr><td>11737419</td><td>[{277662,1661335134481,&quot;clicks&quot;}, {120108,1661335152529,&quot;carts&quot;}, … {1323678,1661335466924,&quot;orders&quot;}]</td><td>1661335134481</td><td>1661335466924</td><td>11</td><td>3</td><td>[&quot;carts&quot;, &quot;clicks&quot;, &quot;orders&quot;]</td><td>1323678</td><td>1661335282402</td></tr><tr><td>12677393</td><td>[{1438759,1661677124218,&quot;clicks&quot;}, {603225,1661677188166,&quot;clicks&quot;}, … {1503306,1661677371208,&quot;clicks&quot;}]</td><td>1661677124218</td><td>1661677371208</td><td>6</td><td>2</td><td>[&quot;clicks&quot;, &quot;carts&quot;]</td><td>603225</td><td>1661677248022</td></tr><tr><td>12677393</td><td>[{1438759,1661677124218,&quot;clicks&quot;}, {603225,1661677188166,&quot;clicks&quot;}, … {1503306,1661677371208,&quot;clicks&quot;}]</td><td>1661677124218</td><td>1661677371208</td><td>6</td><td>2</td><td>[&quot;clicks&quot;, &quot;carts&quot;]</td><td>1292809</td><td>1661677260388</td></tr></tbody></table></div>"
      ],
      "text/plain": [
       "shape: (1_333_761, 9)\n",
       "┌──────────┬────────────┬────────────┬───────────┬───┬───────────┬───────────┬─────────┬───────────┐\n",
       "│ session  ┆ events     ┆ min_ts     ┆ max_ts    ┆ … ┆ unique_ty ┆ unique_va ┆ label   ┆ label_ts  │\n",
       "│ ---      ┆ ---        ┆ ---        ┆ ---       ┆   ┆ pes       ┆ lues      ┆ ---     ┆ ---       │\n",
       "│ i64      ┆ list[struc ┆ i64        ┆ i64       ┆   ┆ ---       ┆ ---       ┆ i64     ┆ i64       │\n",
       "│          ┆ t[3]]      ┆            ┆           ┆   ┆ u32       ┆ list[str] ┆         ┆           │\n",
       "╞══════════╪════════════╪════════════╪═══════════╪═══╪═══════════╪═══════════╪═════════╪═══════════╡\n",
       "│ 11192522 ┆ [{1076558, ┆ 1661166813 ┆ 166116763 ┆ … ┆ 3         ┆ [\"orders\" ┆ 1076558 ┆ 166116697 │\n",
       "│          ┆ 1661166813 ┆ 784        ┆ 0719      ┆   ┆           ┆ ,         ┆         ┆ 6771      │\n",
       "│          ┆ 784,\"click ┆            ┆           ┆   ┆           ┆ \"clicks\", ┆         ┆           │\n",
       "│          ┆ s\"…        ┆            ┆           ┆   ┆           ┆ \"carts\"]  ┆         ┆           │\n",
       "│ 11192522 ┆ [{1076558, ┆ 1661166813 ┆ 166116763 ┆ … ┆ 3         ┆ [\"orders\" ┆ 1076558 ┆ 166116699 │\n",
       "│          ┆ 1661166813 ┆ 784        ┆ 0719      ┆   ┆           ┆ ,         ┆         ┆ 2236      │\n",
       "│          ┆ 784,\"click ┆            ┆           ┆   ┆           ┆ \"clicks\", ┆         ┆           │\n",
       "│          ┆ s\"…        ┆            ┆           ┆   ┆           ┆ \"carts\"]  ┆         ┆           │\n",
       "│ 11202222 ┆ [{1498161, ┆ 1661168961 ┆ 166117221 ┆ … ┆ 3         ┆ [\"orders\" ┆ 1498161 ┆ 166116899 │\n",
       "│          ┆ 1661168961 ┆ 662        ┆ 4578      ┆   ┆           ┆ ,         ┆         ┆ 0294      │\n",
       "│          ┆ 662,\"click ┆            ┆           ┆   ┆           ┆ \"carts\",  ┆         ┆           │\n",
       "│          ┆ s\"…        ┆            ┆           ┆   ┆           ┆ \"clicks\"] ┆         ┆           │\n",
       "│ 11202222 ┆ [{1498161, ┆ 1661168961 ┆ 166117221 ┆ … ┆ 3         ┆ [\"orders\" ┆ 42283   ┆ 166116919 │\n",
       "│          ┆ 1661168961 ┆ 662        ┆ 4578      ┆   ┆           ┆ ,         ┆         ┆ 2920      │\n",
       "│          ┆ 662,\"click ┆            ┆           ┆   ┆           ┆ \"carts\",  ┆         ┆           │\n",
       "│          ┆ s\"…        ┆            ┆           ┆   ┆           ┆ \"clicks\"] ┆         ┆           │\n",
       "│ 11202222 ┆ [{1498161, ┆ 1661168961 ┆ 166117221 ┆ … ┆ 3         ┆ [\"orders\" ┆ 1551504 ┆ 166117029 │\n",
       "│          ┆ 1661168961 ┆ 662        ┆ 4578      ┆   ┆           ┆ ,         ┆         ┆ 3721      │\n",
       "│          ┆ 662,\"click ┆            ┆           ┆   ┆           ┆ \"carts\",  ┆         ┆           │\n",
       "│          ┆ s\"…        ┆            ┆           ┆   ┆           ┆ \"clicks\"] ┆         ┆           │\n",
       "│ …        ┆ …          ┆ …          ┆ …         ┆ … ┆ …         ┆ …         ┆ …       ┆ …         │\n",
       "│ 11737419 ┆ [{277662,1 ┆ 1661335134 ┆ 166133546 ┆ … ┆ 3         ┆ [\"carts\", ┆ 120108  ┆ 166133515 │\n",
       "│          ┆ 6613351344 ┆ 481        ┆ 6924      ┆   ┆           ┆ \"clicks\", ┆         ┆ 2529      │\n",
       "│          ┆ 81,\"clicks ┆            ┆           ┆   ┆           ┆ \"orders\"] ┆         ┆           │\n",
       "│          ┆ \"}…        ┆            ┆           ┆   ┆           ┆           ┆         ┆           │\n",
       "│ 11737419 ┆ [{277662,1 ┆ 1661335134 ┆ 166133546 ┆ … ┆ 3         ┆ [\"carts\", ┆ 1128670 ┆ 166133522 │\n",
       "│          ┆ 6613351344 ┆ 481        ┆ 6924      ┆   ┆           ┆ \"clicks\", ┆         ┆ 5084      │\n",
       "│          ┆ 81,\"clicks ┆            ┆           ┆   ┆           ┆ \"orders\"] ┆         ┆           │\n",
       "│          ┆ \"}…        ┆            ┆           ┆   ┆           ┆           ┆         ┆           │\n",
       "│ 11737419 ┆ [{277662,1 ┆ 1661335134 ┆ 166133546 ┆ … ┆ 3         ┆ [\"carts\", ┆ 1323678 ┆ 166133528 │\n",
       "│          ┆ 6613351344 ┆ 481        ┆ 6924      ┆   ┆           ┆ \"clicks\", ┆         ┆ 2402      │\n",
       "│          ┆ 81,\"clicks ┆            ┆           ┆   ┆           ┆ \"orders\"] ┆         ┆           │\n",
       "│          ┆ \"}…        ┆            ┆           ┆   ┆           ┆           ┆         ┆           │\n",
       "│ 12677393 ┆ [{1438759, ┆ 1661677124 ┆ 166167737 ┆ … ┆ 2         ┆ [\"clicks\" ┆ 603225  ┆ 166167724 │\n",
       "│          ┆ 1661677124 ┆ 218        ┆ 1208      ┆   ┆           ┆ ,         ┆         ┆ 8022      │\n",
       "│          ┆ 218,\"click ┆            ┆           ┆   ┆           ┆ \"carts\"]  ┆         ┆           │\n",
       "│          ┆ s\"…        ┆            ┆           ┆   ┆           ┆           ┆         ┆           │\n",
       "│ 12677393 ┆ [{1438759, ┆ 1661677124 ┆ 166167737 ┆ … ┆ 2         ┆ [\"clicks\" ┆ 1292809 ┆ 166167726 │\n",
       "│          ┆ 1661677124 ┆ 218        ┆ 1208      ┆   ┆           ┆ ,         ┆         ┆ 0388      │\n",
       "│          ┆ 218,\"click ┆            ┆           ┆   ┆           ┆ \"carts\"]  ┆         ┆           │\n",
       "│          ┆ s\"…        ┆            ┆           ┆   ┆           ┆           ┆         ┆           │\n",
       "└──────────┴────────────┴────────────┴───────────┴───┴───────────┴───────────┴─────────┴───────────┘"
      ]
     },
     "execution_count": 37,
     "metadata": {},
     "output_type": "execute_result"
    }
   ],
   "source": [
    "after"
   ]
  },
  {
   "cell_type": "code",
   "execution_count": 38,
   "metadata": {},
   "outputs": [],
   "source": [
    "after_final = after.drop((\"min_ts\", \"max_ts\", \"len\", \"unique_types\", \"unique_values\"))\\\n",
    "    .explode( \"events\" )\\\n",
    "    .unnest( \"events\" )\\\n",
    "    .filter( pl.col( \"ts\" ) < pl.col( \"label_ts\" ) )"
   ]
  },
  {
   "cell_type": "code",
   "execution_count": 40,
   "metadata": {},
   "outputs": [],
   "source": [
    "after_final = after_final\\\n",
    "                .with_columns( after_final[[\"aid\", \"ts\", \"type\"]].to_struct().alias( \"events\" ) )\\\n",
    "                .drop(( \"aid\", \"ts\", \"type\" ))"
   ]
  },
  {
   "cell_type": "code",
   "execution_count": 45,
   "metadata": {},
   "outputs": [
    {
     "data": {
      "text/plain": [
       "(1125910, 3)"
      ]
     },
     "execution_count": 45,
     "metadata": {},
     "output_type": "execute_result"
    }
   ],
   "source": [
    "after_final = after_final.drop( \"label_ts\" )\\\n",
    "    .group_by(( \"session\", \"label\" ))\\\n",
    "    .agg(\n",
    "        pl.col( \"events\" )\n",
    "    )\n",
    "\n",
    "after_final.shape"
   ]
  },
  {
   "cell_type": "code",
   "execution_count": 47,
   "metadata": {},
   "outputs": [],
   "source": [
    "after_final.write_parquet( \"test.parquet\" )"
   ]
  },
  {
   "cell_type": "code",
   "execution_count": 51,
   "metadata": {},
   "outputs": [],
   "source": [
    "before = before.drop(( \"min_ts\", \"max_ts\", \"len\", \"unique_types\", \"unique_values\" ))\n",
    "\n",
    "before.write_parquet( \"train.parquet\" )"
   ]
  },
  {
   "cell_type": "code",
   "execution_count": 52,
   "metadata": {},
   "outputs": [],
   "source": [
    "tst = pl.read_parquet( \"data/test.parquet\" ) "
   ]
  },
  {
   "cell_type": "code",
   "execution_count": 53,
   "metadata": {},
   "outputs": [
    {
     "data": {
      "text/html": [
       "<div><style>\n",
       ".dataframe > thead > tr,\n",
       ".dataframe > tbody > tr {\n",
       "  text-align: right;\n",
       "  white-space: pre-wrap;\n",
       "}\n",
       "</style>\n",
       "<small>shape: (1_125_910, 3)</small><table border=\"1\" class=\"dataframe\"><thead><tr><th>session</th><th>label</th><th>events</th></tr><tr><td>i64</td><td>i64</td><td>list[struct[3]]</td></tr></thead><tbody><tr><td>11896653</td><td>527209</td><td>[{1682122,1661371400731,&quot;clicks&quot;}, {1316412,1661371595934,&quot;clicks&quot;}, … {1029386,1661374206607,&quot;clicks&quot;}]</td></tr><tr><td>12027709</td><td>891174</td><td>[{899805,1661432423664,&quot;clicks&quot;}, {717853,1661432466052,&quot;clicks&quot;}, … {891174,1661432601234,&quot;clicks&quot;}]</td></tr><tr><td>11841521</td><td>596420</td><td>[{382968,1661360371933,&quot;clicks&quot;}, {382968,1661360424662,&quot;carts&quot;}, … {596420,1661360807048,&quot;clicks&quot;}]</td></tr><tr><td>11588604</td><td>1311630</td><td>[{437273,1661275810432,&quot;clicks&quot;}, {437273,1661275831198,&quot;carts&quot;}, … {1311630,1661275901408,&quot;clicks&quot;}]</td></tr><tr><td>12178219</td><td>554660</td><td>[{549100,1661492854578,&quot;clicks&quot;}, {70139,1661530203549,&quot;clicks&quot;}, … {554660,1661680867761,&quot;carts&quot;}]</td></tr><tr><td>&hellip;</td><td>&hellip;</td><td>&hellip;</td></tr><tr><td>12477564</td><td>1820709</td><td>[{477345,1661601509917,&quot;clicks&quot;}, {583811,1661601546873,&quot;clicks&quot;}, … {1820709,1661627306039,&quot;clicks&quot;}]</td></tr><tr><td>12508126</td><td>471216</td><td>[{1290649,1661609098363,&quot;clicks&quot;}, {1216622,1661609251695,&quot;clicks&quot;}, … {471216,1661609930029,&quot;clicks&quot;}]</td></tr><tr><td>11214067</td><td>1114123</td><td>[{1086499,1661171641283,&quot;clicks&quot;}, {1114123,1661707048525,&quot;clicks&quot;}, … {1114123,1661707231518,&quot;clicks&quot;}]</td></tr><tr><td>12673272</td><td>690067</td><td>[{1574201,1661676239739,&quot;clicks&quot;}, {1574201,1661676504267,&quot;clicks&quot;}, {690067,1661676525482,&quot;clicks&quot;}]</td></tr><tr><td>11247156</td><td>1346773</td><td>[{1346773,1661178870377,&quot;clicks&quot;}]</td></tr></tbody></table></div>"
      ],
      "text/plain": [
       "shape: (1_125_910, 3)\n",
       "┌──────────┬─────────┬───────────────────────────────────┐\n",
       "│ session  ┆ label   ┆ events                            │\n",
       "│ ---      ┆ ---     ┆ ---                               │\n",
       "│ i64      ┆ i64     ┆ list[struct[3]]                   │\n",
       "╞══════════╪═════════╪═══════════════════════════════════╡\n",
       "│ 11896653 ┆ 527209  ┆ [{1682122,1661371400731,\"clicks\"… │\n",
       "│ 12027709 ┆ 891174  ┆ [{899805,1661432423664,\"clicks\"}… │\n",
       "│ 11841521 ┆ 596420  ┆ [{382968,1661360371933,\"clicks\"}… │\n",
       "│ 11588604 ┆ 1311630 ┆ [{437273,1661275810432,\"clicks\"}… │\n",
       "│ 12178219 ┆ 554660  ┆ [{549100,1661492854578,\"clicks\"}… │\n",
       "│ …        ┆ …       ┆ …                                 │\n",
       "│ 12477564 ┆ 1820709 ┆ [{477345,1661601509917,\"clicks\"}… │\n",
       "│ 12508126 ┆ 471216  ┆ [{1290649,1661609098363,\"clicks\"… │\n",
       "│ 11214067 ┆ 1114123 ┆ [{1086499,1661171641283,\"clicks\"… │\n",
       "│ 12673272 ┆ 690067  ┆ [{1574201,1661676239739,\"clicks\"… │\n",
       "│ 11247156 ┆ 1346773 ┆ [{1346773,1661178870377,\"clicks\"… │\n",
       "└──────────┴─────────┴───────────────────────────────────┘"
      ]
     },
     "execution_count": 53,
     "metadata": {},
     "output_type": "execute_result"
    }
   ],
   "source": [
    "tst"
   ]
  }
 ],
 "metadata": {
  "kernelspec": {
   "display_name": "Python 3",
   "language": "python",
   "name": "python3"
  },
  "language_info": {
   "codemirror_mode": {
    "name": "ipython",
    "version": 3
   },
   "file_extension": ".py",
   "mimetype": "text/x-python",
   "name": "python",
   "nbconvert_exporter": "python",
   "pygments_lexer": "ipython3",
   "version": "3.9.19"
  }
 },
 "nbformat": 4,
 "nbformat_minor": 2
}
