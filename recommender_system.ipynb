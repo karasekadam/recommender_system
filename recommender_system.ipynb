{
 "cells": [
  {
   "cell_type": "code",
   "execution_count": 1,
   "id": "initial_id",
   "metadata": {
    "collapsed": true,
    "ExecuteTime": {
     "end_time": "2024-04-22T15:09:01.712570Z",
     "start_time": "2024-04-22T15:09:01.598989Z"
    }
   },
   "outputs": [],
   "source": [
    "import polars as pl"
   ]
  },
  {
   "cell_type": "code",
   "outputs": [
    {
     "name": "stdout",
     "output_type": "stream",
     "text": [
      "shape: (979_617, 3)\n",
      "┌──────────┬─────────┬───────────────────────────────────┐\n",
      "│ session  ┆ label   ┆ events                            │\n",
      "│ ---      ┆ ---     ┆ ---                               │\n",
      "│ i64      ┆ i64     ┆ list[struct[3]]                   │\n",
      "╞══════════╪═════════╪═══════════════════════════════════╡\n",
      "│ 11955459 ┆ 396956  ┆ [{861882,1661411708073,\"clicks\"}… │\n",
      "│ 11391486 ┆ 70874   ┆ [{428948,1661213878385,\"clicks\"}… │\n",
      "│ 11280097 ┆ 434423  ┆ [{1770344,1661185503611,\"clicks\"… │\n",
      "│ 12275789 ┆ 1548608 ┆ [{1609770,1661523415651,\"clicks\"… │\n",
      "│ 11748693 ┆ 1767107 ┆ [{650819,1661338091714,\"clicks\"}… │\n",
      "│ …        ┆ …       ┆ …                                 │\n",
      "│ 12706839 ┆ 370477  ┆ [{633484,1661683211298,\"clicks\"}… │\n",
      "│ 11197298 ┆ 87613   ┆ [{728827,1661167953810,\"clicks\"}… │\n",
      "│ 12317107 ┆ 117087  ┆ [{523335,1661533978099,\"clicks\"}… │\n",
      "│ 11574797 ┆ 1428440 ┆ [{1344109,1661273002063,\"clicks\"… │\n",
      "│ 12200806 ┆ 1508865 ┆ [{941516,1661501688627,\"clicks\"}… │\n",
      "└──────────┴─────────┴───────────────────────────────────┘\n"
     ]
    }
   ],
   "source": [
    "train_data = pl.read_parquet('data/train.parquet')\n",
    "train_data = train_data.explode(\"events\").unnest(\"events\")\n",
    "\n",
    "test_data = pl.read_parquet('data/test.parquet')\n",
    "print(test_data)"
   ],
   "metadata": {
    "collapsed": false,
    "ExecuteTime": {
     "end_time": "2024-04-22T15:15:25.207370Z",
     "start_time": "2024-04-22T15:15:16.574371Z"
    }
   },
   "id": "18ad345be87882ca",
   "execution_count": 6
  },
  {
   "cell_type": "code",
   "outputs": [],
   "source": [
    "from polars.datatypes import Struct\n",
    "\n",
    "class Recommender:\n",
    "    def fit(self, data: pl.DataFrame) -> None:\n",
    "        # fit the model to the training data\n",
    "        pass\n",
    "        \n",
    "    def recommend(self, events: list[Struct]) -> list[int]:\n",
    "        # return a list of k item ids\n",
    "        pass"
   ],
   "metadata": {
    "collapsed": false,
    "ExecuteTime": {
     "end_time": "2024-04-22T15:12:41.349817Z",
     "start_time": "2024-04-22T15:12:41.345043Z"
    }
   },
   "id": "90ec6d8c6c0ce8a4",
   "execution_count": 4
  },
  {
   "cell_type": "markdown",
   "source": [],
   "metadata": {
    "collapsed": false
   },
   "id": "6149fc9382a1601d"
  },
  {
   "cell_type": "code",
   "outputs": [
    {
     "name": "stdout",
     "output_type": "stream",
     "text": [
      "[24455, 23562, 22671, 18888, 18444, 18303, 18039, 17837, 17472, 17205, 15723, 15669, 15632, 15223, 14951, 14785, 14780, 14037, 13701, 13114]\n"
     ]
    }
   ],
   "source": [
    "class BaselineRecommender(Recommender):\n",
    "    def __init__(self):\n",
    "        self.top_k = None\n",
    "        \n",
    "    def fit(self, data):\n",
    "        self.top_k = data.group_by(\"aid\").len().sort(\"len\", descending=True).head(20)[\"len\"].to_list()\n",
    "        \n",
    "    def recommend(self, events):\n",
    "        return self.top_k\n",
    "\n",
    "\n",
    "bs_model = BaselineRecommender()\n",
    "bs_model.fit(train_data)\n",
    "print(bs_model.recommend([1, 2, 3]))"
   ],
   "metadata": {
    "collapsed": false,
    "ExecuteTime": {
     "end_time": "2024-04-22T15:17:17.030665Z",
     "start_time": "2024-04-22T15:17:16.024024Z"
    }
   },
   "id": "51720fba80aeb485",
   "execution_count": 9
  },
  {
   "cell_type": "code",
   "outputs": [
    {
     "name": "stdout",
     "output_type": "stream",
     "text": [
      "Accuracy: 0.0014291299558909247 %\n"
     ]
    }
   ],
   "source": [
    "def evaluation(model, test_data):\n",
    "    # evaluate the model on the test data\n",
    "    right_predictions = 0\n",
    "    for sequence in test_data.iter_rows():\n",
    "        recommendations = model.recommend(sequence[2])\n",
    "        label = sequence[1]\n",
    "        if label in recommendations:\n",
    "            right_predictions += 1\n",
    "        \n",
    "    print(f\"Accuracy: {right_predictions / len(test_data) * 100} %\")\n",
    "\n",
    "evaluation(bs_model, test_data)"
   ],
   "metadata": {
    "collapsed": false,
    "ExecuteTime": {
     "end_time": "2024-04-22T15:23:45.573282Z",
     "start_time": "2024-04-22T15:23:30.233432Z"
    }
   },
   "id": "54cc3910fb5eb817",
   "execution_count": 15
  },
  {
   "cell_type": "code",
   "outputs": [],
   "source": [],
   "metadata": {
    "collapsed": false
   },
   "id": "74472facddc444fa"
  }
 ],
 "metadata": {
  "kernelspec": {
   "display_name": "Python 3",
   "language": "python",
   "name": "python3"
  },
  "language_info": {
   "codemirror_mode": {
    "name": "ipython",
    "version": 2
   },
   "file_extension": ".py",
   "mimetype": "text/x-python",
   "name": "python",
   "nbconvert_exporter": "python",
   "pygments_lexer": "ipython2",
   "version": "2.7.6"
  }
 },
 "nbformat": 4,
 "nbformat_minor": 5
}
