{
 "cells": [
  {
   "cell_type": "code",
   "execution_count": 1,
   "id": "initial_id",
   "metadata": {
    "collapsed": true,
    "ExecuteTime": {
     "end_time": "2024-05-12T21:45:37.460098500Z",
     "start_time": "2024-05-12T21:45:36.047543900Z"
    }
   },
   "outputs": [],
   "source": [
    "import polars as pl"
   ]
  },
  {
   "cell_type": "code",
   "outputs": [
    {
     "name": "stdout",
     "output_type": "stream",
     "text": [
      "shape: (3_340_193, 2)\n",
      "┌─────────┬─────────────────────────────────┐\n",
      "│ session ┆ events                          │\n",
      "│ ---     ┆ ---                             │\n",
      "│ i64     ┆ list[struct[3]]                 │\n",
      "╞═════════╪═════════════════════════════════╡\n",
      "│ 1185618 ┆ [{1020908,1659386928785,\"click… │\n",
      "│ 7575896 ┆ [{1440931,1660340322363,\"click… │\n",
      "│ 4293917 ┆ [{1679269,1659737781324,\"click… │\n",
      "│ 462188  ┆ [{69116,1659351401895,\"clicks\"… │\n",
      "│ 1028060 ┆ [{1540638,1659380043176,\"click… │\n",
      "│ …       ┆ …                               │\n",
      "│ 4365092 ┆ [{1361831,1659769672889,\"click… │\n",
      "│ 2210007 ┆ [{1508734,1659498037473,\"click… │\n",
      "│ 7272969 ┆ [{636101,1660301315572,\"clicks… │\n",
      "│ 7569078 ┆ [{320776,1660338958474,\"clicks… │\n",
      "│ 7712086 ┆ [{801774,1660384723701,\"clicks… │\n",
      "└─────────┴─────────────────────────────────┘\n"
     ]
    }
   ],
   "source": [
    "train_data = pl.read_parquet('otto-reduced/train.parquet')\n",
    "test_data = pl.read_parquet('otto-reduced/test.parquet')\n",
    "print(train_data)"
   ],
   "metadata": {
    "collapsed": false,
    "ExecuteTime": {
     "end_time": "2024-05-12T21:47:47.238590100Z",
     "start_time": "2024-05-12T21:45:37.460098500Z"
    }
   },
   "id": "18ad345be87882ca",
   "execution_count": 2
  },
  {
   "cell_type": "code",
   "execution_count": 3,
   "outputs": [
    {
     "name": "stdout",
     "output_type": "stream",
     "text": [
      "shape: (6_699_195, 3)\n",
      "┌──────────┬─────────┬────────────────────────────────────────────────────────────────────────┐\n",
      "│ session  ┆ label   ┆ events                                                                 │\n",
      "│ ---      ┆ ---     ┆ ---                                                                    │\n",
      "│ i64      ┆ i64     ┆ list[struct[3]]                                                        │\n",
      "╞══════════╪═════════╪════════════════════════════════════════════════════════════════════════╡\n",
      "│ 12204380 ┆ 1157175 ┆ [{225122,1661502793261,\"clicks\"}, {277870,1661502813114,\"clicks\"}, …   │\n",
      "│          ┆         ┆ {1074901,1661503932537,\"clicks\"}]                                      │\n",
      "│ 11676028 ┆ 478901  ┆ [{1029424,1661302906256,\"clicks\"}, {1029424,1661302946617,\"clicks\"}, … │\n",
      "│          ┆         ┆ {1293905,1661303179619,\"clicks\"}]                                      │\n",
      "│ 11369945 ┆ 257383  ┆ [{479970,1661200978721,\"clicks\"}, {479970,1661200995782,\"carts\"}, …    │\n",
      "│          ┆         ┆ {1210977,1661201999012,\"clicks\"}]                                      │\n",
      "│ 11540917 ┆ 1301360 ┆ [{1113126,1661265758361,\"clicks\"}, {1181043,1661265872319,\"clicks\"}, … │\n",
      "│          ┆         ┆ {519723,1661266687209,\"clicks\"}]                                       │\n",
      "│ 11385110 ┆ 1625970 ┆ [{718725,1661206884295,\"clicks\"}, {606623,1661206904238,\"clicks\"}, …   │\n",
      "│          ┆         ┆ {885193,1661288145791,\"clicks\"}]                                       │\n",
      "│ …        ┆ …       ┆ …                                                                      │\n",
      "│ 12187863 ┆ 1494921 ┆ [{1187065,1661497180193,\"clicks\"}, {965019,1661497228047,\"clicks\"}, …  │\n",
      "│          ┆         ┆ {599554,1661506137928,\"clicks\"}]                                       │\n",
      "│ 12890092 ┆ 985328  ┆ [{1352711,1661719890472,\"clicks\"}, {1696103,1661720102238,\"clicks\"}, … │\n",
      "│          ┆         ┆ {1539135,1661720742197,\"clicks\"}]                                      │\n",
      "│ 12337831 ┆ 196865  ┆ [{1022943,1661538686904,\"clicks\"}]                                     │\n",
      "│ 12340381 ┆ 741714  ┆ [{329005,1661539299435,\"clicks\"}, {1370962,1661541294182,\"clicks\"}, …  │\n",
      "│          ┆         ┆ {1658419,1661541437469,\"clicks\"}]                                      │\n",
      "│ 12316005 ┆ 803514  ┆ [{573705,1661533707543,\"clicks\"}, {128763,1661533824273,\"clicks\"}, …   │\n",
      "│          ┆         ┆ {1313224,1661536631193,\"clicks\"}]                                      │\n",
      "└──────────┴─────────┴────────────────────────────────────────────────────────────────────────┘\n"
     ]
    }
   ],
   "source": [
    "pl.Config.set_fmt_str_lengths(1000)\n",
    "print(test_data)\n"
   ],
   "metadata": {
    "collapsed": false,
    "ExecuteTime": {
     "end_time": "2024-05-12T21:47:47.263241600Z",
     "start_time": "2024-05-12T21:47:47.247603400Z"
    }
   }
  },
  {
   "cell_type": "code",
   "outputs": [],
   "source": [
    "from polars.datatypes import Struct\n",
    "\n",
    "class Recommender:\n",
    "    def fit(self, data: pl.DataFrame) -> None:\n",
    "        # fit the model to the training data\n",
    "        pass\n",
    "        \n",
    "    def recommend(self, events: list[Struct]) -> list[int]:\n",
    "        # return a list of k item ids\n",
    "        pass"
   ],
   "metadata": {
    "collapsed": false,
    "ExecuteTime": {
     "end_time": "2024-05-12T21:47:47.748778400Z",
     "start_time": "2024-05-12T21:47:47.298502800Z"
    }
   },
   "id": "90ec6d8c6c0ce8a4",
   "execution_count": 4
  },
  {
   "cell_type": "markdown",
   "source": [],
   "metadata": {
    "collapsed": false
   },
   "id": "6149fc9382a1601d"
  },
  {
   "cell_type": "code",
   "outputs": [
    {
     "name": "stdout",
     "output_type": "stream",
     "text": [
      "shape: (68_667_257, 4)\n",
      "┌─────────┬─────────┬───────────────┬────────┐\n",
      "│ session ┆ aid     ┆ ts            ┆ type   │\n",
      "│ ---     ┆ ---     ┆ ---           ┆ ---    │\n",
      "│ i64     ┆ i64     ┆ i64           ┆ str    │\n",
      "╞═════════╪═════════╪═══════════════╪════════╡\n",
      "│ 1185618 ┆ 1020908 ┆ 1659386928785 ┆ clicks │\n",
      "│ 1185618 ┆ 1356523 ┆ 1659386944620 ┆ clicks │\n",
      "│ 1185618 ┆ 130973  ┆ 1659387015519 ┆ clicks │\n",
      "│ 1185618 ┆ 1392955 ┆ 1659387070030 ┆ clicks │\n",
      "│ 1185618 ┆ 199292  ┆ 1659387078709 ┆ clicks │\n",
      "│ …       ┆ …       ┆ …             ┆ …      │\n",
      "│ 7712086 ┆ 1464627 ┆ 1660386545258 ┆ clicks │\n",
      "│ 7712086 ┆ 1145198 ┆ 1660386575785 ┆ clicks │\n",
      "│ 7712086 ┆ 1734182 ┆ 1660386592436 ┆ clicks │\n",
      "│ 7712086 ┆ 627378  ┆ 1660386603044 ┆ clicks │\n",
      "│ 7712086 ┆ null    ┆ 1661330073456 ┆ end    │\n",
      "└─────────┴─────────┴───────────────┴────────┘\n",
      "[None, 1460571, 29735, 108125, 231487, 1733943, 1502122, 756588, 832192, 986164, 670006, 1586171, 322370, 409620, 166037, 620545, 77440, 554660, 801774, 184976]\n"
     ]
    }
   ],
   "source": [
    "class BaselineRecommender(Recommender):\n",
    "    def __init__(self):\n",
    "        self.top_k = None\n",
    "        \n",
    "    def fit(self, data):\n",
    "        data = data.explode( \"events\" ).unnest( \"events\" )\n",
    "        print(data)\n",
    "        self.top_k = data.group_by(\"aid\").len().sort(\"len\", descending=True).head(20)[\"aid\"].to_list()\n",
    "        \n",
    "    def recommend(self, events):\n",
    "        return self.top_k\n",
    "\n",
    "\n",
    "bs_model = BaselineRecommender()\n",
    "bs_model.fit(train_data)\n",
    "print(bs_model.recommend([1, 2, 3]))"
   ],
   "metadata": {
    "collapsed": false,
    "ExecuteTime": {
     "end_time": "2024-05-12T21:48:33.015311500Z",
     "start_time": "2024-05-12T21:47:47.342266900Z"
    }
   },
   "id": "51720fba80aeb485",
   "execution_count": 5
  },
  {
   "cell_type": "code",
   "outputs": [
    {
     "name": "stdout",
     "output_type": "stream",
     "text": [
      "6699195\n",
      "0\n",
      "100000\n",
      "200000\n",
      "300000\n",
      "400000\n",
      "500000\n",
      "600000\n",
      "700000\n",
      "800000\n",
      "900000\n",
      "1000000\n",
      "1100000\n",
      "1200000\n",
      "1300000\n",
      "1400000\n",
      "1500000\n",
      "1600000\n",
      "1700000\n",
      "1800000\n",
      "1900000\n",
      "2000000\n",
      "2100000\n",
      "2200000\n",
      "2300000\n",
      "2400000\n",
      "2500000\n",
      "2600000\n",
      "2700000\n",
      "2800000\n",
      "2900000\n",
      "3000000\n",
      "3100000\n",
      "3200000\n",
      "3300000\n",
      "3400000\n",
      "3500000\n",
      "3600000\n",
      "3700000\n",
      "3800000\n",
      "3900000\n",
      "4000000\n",
      "4100000\n",
      "4200000\n",
      "4300000\n",
      "4400000\n",
      "4500000\n",
      "4600000\n",
      "4700000\n",
      "4800000\n",
      "4900000\n",
      "5000000\n",
      "5100000\n",
      "5200000\n",
      "5300000\n",
      "5400000\n",
      "5500000\n",
      "5600000\n",
      "5700000\n",
      "5800000\n",
      "5900000\n",
      "6000000\n",
      "6100000\n",
      "6200000\n",
      "6300000\n",
      "6400000\n",
      "6500000\n",
      "6600000\n",
      "Accuracy: 0.47601241641719644 %\n"
     ]
    }
   ],
   "source": [
    "def evaluation(model, test_data):\n",
    "    # evaluate the model on the test data\n",
    "    right_predictions = 0\n",
    "    i = 0\n",
    "    print(len(test_data))\n",
    "    for sequence in test_data.iter_rows():\n",
    "        if i % 100000 == 0:\n",
    "            print(i)\n",
    "        recommendations = model.recommend(sequence[2])\n",
    "        label = sequence[1]\n",
    "        if label in recommendations:\n",
    "            right_predictions += 1\n",
    "        i += 1\n",
    "        \n",
    "    print(f\"Accuracy: {right_predictions / len(test_data) * 100} %\")\n",
    "\n",
    "evaluation(bs_model, test_data)"
   ],
   "metadata": {
    "collapsed": false,
    "ExecuteTime": {
     "end_time": "2024-05-12T21:56:52.956046200Z",
     "start_time": "2024-05-12T21:48:33.040916100Z"
    }
   },
   "id": "54cc3910fb5eb817",
   "execution_count": 6
  },
  {
   "cell_type": "code",
   "execution_count": 14,
   "outputs": [],
   "source": [
    "smaller_train_data = train_data.head(1000)"
   ],
   "metadata": {
    "collapsed": false,
    "ExecuteTime": {
     "end_time": "2024-05-12T22:29:02.352345Z",
     "start_time": "2024-05-12T22:29:02.345248100Z"
    }
   }
  },
  {
   "cell_type": "code",
   "outputs": [],
   "source": [
    "from fastai.collab import CollabDataLoaders, collab_learner\n",
    "\n",
    "class FastAIRecommender(Recommender):\n",
    "    def __init__(self):\n",
    "        print(\"init\")\n",
    "        recommender = None\n",
    "\n",
    "    def fit(self, data: pl.DataFrame) -> None:\n",
    "        data = data.explode( \"events\" ).unnest( \"events\" )\n",
    "        print(\"exploded\")\n",
    "        data = data.to_pandas()\n",
    "        print(\"to pandas\")\n",
    "        dls = CollabDataLoaders.from_df(data, bs=64)\n",
    "        print(\"dls\")\n",
    "        learn = collab_learner(dls, y_range=(0, 1))\n",
    "        print(\"learner\")\n",
    "        print(learn.fit_one_cycle(1))\n",
    "\n"
   ],
   "metadata": {
    "collapsed": false,
    "ExecuteTime": {
     "end_time": "2024-05-12T22:29:59.906533100Z",
     "start_time": "2024-05-12T22:29:59.906533100Z"
    }
   },
   "id": "74472facddc444fa",
   "execution_count": 18
  },
  {
   "cell_type": "code",
   "execution_count": 19,
   "outputs": [
    {
     "name": "stdout",
     "output_type": "stream",
     "text": [
      "init\n",
      "exploded\n",
      "to pandas\n",
      "dls\n",
      "learner\n"
     ]
    },
    {
     "data": {
      "text/plain": "<IPython.core.display.HTML object>",
      "text/html": "\n<style>\n    /* Turns off some styling */\n    progress {\n        /* gets rid of default border in Firefox and Opera. */\n        border: none;\n        /* Needs to be in here for Safari polyfill so background images work as expected. */\n        background-size: auto;\n    }\n    progress:not([value]), progress:not([value])::-webkit-progress-bar {\n        background: repeating-linear-gradient(45deg, #7e7e7e, #7e7e7e 10px, #5c5c5c 10px, #5c5c5c 20px);\n    }\n    .progress-bar-interrupted, .progress-bar-interrupted::-webkit-progress-bar {\n        background: #F44336;\n    }\n</style>\n"
     },
     "metadata": {},
     "output_type": "display_data"
    },
    {
     "data": {
      "text/plain": "<IPython.core.display.HTML object>",
      "text/html": "\n    <div>\n      <progress value='0' class='' max='1' style='width:300px; height:20px; vertical-align: middle;'></progress>\n      \n    </div>\n    \n"
     },
     "metadata": {},
     "output_type": "display_data"
    },
    {
     "name": "stdout",
     "output_type": "stream",
     "text": [
      "None\n"
     ]
    }
   ],
   "source": [
    "FastAIRecommender().fit(smaller_train_data)"
   ],
   "metadata": {
    "collapsed": false,
    "ExecuteTime": {
     "end_time": "2024-05-12T22:30:06.042962600Z",
     "start_time": "2024-05-12T22:30:03.090082300Z"
    }
   }
  },
  {
   "cell_type": "code",
   "execution_count": null,
   "outputs": [],
   "source": [],
   "metadata": {
    "collapsed": false
   }
  }
 ],
 "metadata": {
  "kernelspec": {
   "display_name": "Python 3",
   "language": "python",
   "name": "python3"
  },
  "language_info": {
   "codemirror_mode": {
    "name": "ipython",
    "version": 2
   },
   "file_extension": ".py",
   "mimetype": "text/x-python",
   "name": "python",
   "nbconvert_exporter": "python",
   "pygments_lexer": "ipython2",
   "version": "2.7.6"
  }
 },
 "nbformat": 4,
 "nbformat_minor": 5
}
