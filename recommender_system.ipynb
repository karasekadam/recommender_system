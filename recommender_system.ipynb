{
 "cells": [
  {
   "cell_type": "code",
   "execution_count": 1,
   "id": "initial_id",
   "metadata": {
    "collapsed": true,
    "ExecuteTime": {
     "end_time": "2024-05-13T10:38:40.036571Z",
     "start_time": "2024-05-13T10:38:39.874434Z"
    }
   },
   "outputs": [],
   "source": [
    "import polars as pl"
   ]
  },
  {
   "cell_type": "code",
   "outputs": [
    {
     "name": "stdout",
     "output_type": "stream",
     "text": [
      "shape: (3_340_193, 2)\n",
      "┌─────────┬───────────────────────────────────┐\n",
      "│ session ┆ events                            │\n",
      "│ ---     ┆ ---                               │\n",
      "│ i64     ┆ list[struct[3]]                   │\n",
      "╞═════════╪═══════════════════════════════════╡\n",
      "│ 1185618 ┆ [{1020908,1659386928785,\"clicks\"… │\n",
      "│ 7575896 ┆ [{1440931,1660340322363,\"clicks\"… │\n",
      "│ 4293917 ┆ [{1679269,1659737781324,\"clicks\"… │\n",
      "│ 462188  ┆ [{69116,1659351401895,\"clicks\"},… │\n",
      "│ 1028060 ┆ [{1540638,1659380043176,\"clicks\"… │\n",
      "│ …       ┆ …                                 │\n",
      "│ 4365092 ┆ [{1361831,1659769672889,\"clicks\"… │\n",
      "│ 2210007 ┆ [{1508734,1659498037473,\"clicks\"… │\n",
      "│ 7272969 ┆ [{636101,1660301315572,\"clicks\"}… │\n",
      "│ 7569078 ┆ [{320776,1660338958474,\"clicks\"}… │\n",
      "│ 7712086 ┆ [{801774,1660384723701,\"clicks\"}… │\n",
      "└─────────┴───────────────────────────────────┘\n"
     ]
    }
   ],
   "source": [
    "train_data = pl.read_parquet('data/otto-reduced/train.parquet')\n",
    "# test_data = pl.read_parquet('otto-reduced/test.parquet')\n",
    "print(train_data)"
   ],
   "metadata": {
    "collapsed": false,
    "ExecuteTime": {
     "end_time": "2024-05-13T10:38:46.869868Z",
     "start_time": "2024-05-13T10:38:40.038417Z"
    }
   },
   "id": "18ad345be87882ca",
   "execution_count": 2
  },
  {
   "cell_type": "code",
   "execution_count": 3,
   "outputs": [
    {
     "data": {
      "text/plain": "polars.config.Config"
     },
     "execution_count": 3,
     "metadata": {},
     "output_type": "execute_result"
    }
   ],
   "source": [
    "pl.Config.set_fmt_str_lengths(1000)\n",
    "# print(test_data)\n"
   ],
   "metadata": {
    "collapsed": false,
    "ExecuteTime": {
     "end_time": "2024-05-13T10:38:46.877700Z",
     "start_time": "2024-05-13T10:38:46.871122Z"
    }
   },
   "id": "62a6febbf6bc8113"
  },
  {
   "cell_type": "code",
   "outputs": [],
   "source": [
    "from polars.datatypes import Struct\n",
    "\n",
    "class Recommender:\n",
    "    def fit(self, data: pl.DataFrame) -> None:\n",
    "        # fit the model to the training data\n",
    "        pass\n",
    "        \n",
    "    def recommend(self, events: list[Struct]) -> list[int]:\n",
    "        # return a list of k item ids\n",
    "        pass"
   ],
   "metadata": {
    "collapsed": false,
    "ExecuteTime": {
     "end_time": "2024-05-13T10:38:46.884173Z",
     "start_time": "2024-05-13T10:38:46.879896Z"
    }
   },
   "id": "90ec6d8c6c0ce8a4",
   "execution_count": 4
  },
  {
   "cell_type": "markdown",
   "source": [],
   "metadata": {
    "collapsed": false
   },
   "id": "6149fc9382a1601d"
  },
  {
   "cell_type": "code",
   "outputs": [
    {
     "name": "stdout",
     "output_type": "stream",
     "text": [
      "shape: (68_667_257, 4)\n",
      "┌─────────┬─────────┬───────────────┬────────┐\n",
      "│ session ┆ aid     ┆ ts            ┆ type   │\n",
      "│ ---     ┆ ---     ┆ ---           ┆ ---    │\n",
      "│ i64     ┆ i64     ┆ i64           ┆ str    │\n",
      "╞═════════╪═════════╪═══════════════╪════════╡\n",
      "│ 1185618 ┆ 1020908 ┆ 1659386928785 ┆ clicks │\n",
      "│ 1185618 ┆ 1356523 ┆ 1659386944620 ┆ clicks │\n",
      "│ 1185618 ┆ 130973  ┆ 1659387015519 ┆ clicks │\n",
      "│ 1185618 ┆ 1392955 ┆ 1659387070030 ┆ clicks │\n",
      "│ 1185618 ┆ 199292  ┆ 1659387078709 ┆ clicks │\n",
      "│ …       ┆ …       ┆ …             ┆ …      │\n",
      "│ 7712086 ┆ 1464627 ┆ 1660386545258 ┆ clicks │\n",
      "│ 7712086 ┆ 1145198 ┆ 1660386575785 ┆ clicks │\n",
      "│ 7712086 ┆ 1734182 ┆ 1660386592436 ┆ clicks │\n",
      "│ 7712086 ┆ 627378  ┆ 1660386603044 ┆ clicks │\n",
      "│ 7712086 ┆ null    ┆ 1661330073456 ┆ end    │\n",
      "└─────────┴─────────┴───────────────┴────────┘\n",
      "[None, 1460571, 29735, 108125, 231487, 1733943, 1502122, 756588, 832192, 986164, 670006, 1586171, 322370, 409620, 166037, 620545, 77440, 554660, 801774, 184976]\n"
     ]
    }
   ],
   "source": [
    "class BaselineRecommender(Recommender):\n",
    "    def __init__(self):\n",
    "        self.top_k = None\n",
    "        \n",
    "    def fit(self, data):\n",
    "        data = data.explode( \"events\" ).unnest( \"events\" )\n",
    "        print(data)\n",
    "        self.top_k = data.group_by(\"aid\").len().sort(\"len\", descending=True).head(20)[\"aid\"].to_list()\n",
    "        \n",
    "    def recommend(self, events):\n",
    "        return self.top_k\n",
    "\n",
    "\n",
    "bs_model = BaselineRecommender()\n",
    "bs_model.fit(train_data)\n",
    "print(bs_model.recommend([1, 2, 3]))"
   ],
   "metadata": {
    "collapsed": false,
    "ExecuteTime": {
     "end_time": "2024-05-13T10:38:51.237030Z",
     "start_time": "2024-05-13T10:38:46.885676Z"
    }
   },
   "id": "51720fba80aeb485",
   "execution_count": 5
  },
  {
   "cell_type": "code",
   "outputs": [],
   "source": [
    "def evaluation(model, test_data):\n",
    "    # evaluate the model on the test data\n",
    "    right_predictions = 0\n",
    "    i = 0\n",
    "    print(len(test_data))\n",
    "    for sequence in test_data.iter_rows():\n",
    "        if i % 100000 == 0:\n",
    "            print(i)\n",
    "        recommendations = model.recommend(sequence[2])\n",
    "        label = sequence[1]\n",
    "        if label in recommendations:\n",
    "            right_predictions += 1\n",
    "        i += 1\n",
    "        \n",
    "    print(f\"Accuracy: {right_predictions / len(test_data) * 100} %\")\n",
    "\n",
    "# evaluation(bs_model, test_data)"
   ],
   "metadata": {
    "collapsed": false,
    "ExecuteTime": {
     "end_time": "2024-05-13T10:38:51.243441Z",
     "start_time": "2024-05-13T10:38:51.239122Z"
    }
   },
   "id": "54cc3910fb5eb817",
   "execution_count": 6
  },
  {
   "cell_type": "code",
   "execution_count": 7,
   "outputs": [],
   "source": [
    "# smaller_train_data = train_data.head(1000)"
   ],
   "metadata": {
    "collapsed": false,
    "ExecuteTime": {
     "end_time": "2024-05-13T10:38:51.248052Z",
     "start_time": "2024-05-13T10:38:51.244987Z"
    }
   },
   "id": "b1d2bcf49426459e"
  },
  {
   "cell_type": "code",
   "outputs": [],
   "source": [
    "from fastai.collab import CollabDataLoaders, collab_learner\n",
    "\n",
    "class FastAIRecommender(Recommender):\n",
    "    def __init__(self):\n",
    "        print(\"init\")\n",
    "        recommender = None\n",
    "\n",
    "    def fit(self, data: pl.DataFrame) -> None:\n",
    "        data = data.explode( \"events\" ).unnest( \"events\" )\n",
    "        print(\"exploded\")\n",
    "        data = data.to_pandas()\n",
    "        print(\"to pandas\")\n",
    "        dls = CollabDataLoaders.from_df(data, bs=64)\n",
    "        print(\"dls\")\n",
    "        learn = collab_learner(dls, y_range=(0, 1))\n",
    "        print(\"learner\")\n",
    "        print(learn.fit_one_cycle(1))\n",
    "    \n",
    "    def get_next_click(self, session_history):\n",
    "        \"\"\"\n",
    "        Predicts the next product click for a given session history.\n",
    "        \"\"\"\n",
    "        user_embedding = model.user_factors[sessions.index(session_history)]\n",
    "        scores = model.item_factors @ user_embedding.T\n",
    "        _, prediction_idx = scores.topk(1)  # Get index of most probable item\n",
    "        return prediction_idx.item()  \n",
    "\n"
   ],
   "metadata": {
    "collapsed": false,
    "ExecuteTime": {
     "end_time": "2024-05-13T10:38:54.833317Z",
     "start_time": "2024-05-13T10:38:51.249847Z"
    }
   },
   "id": "74472facddc444fa",
   "execution_count": 8
  },
  {
   "cell_type": "code",
   "execution_count": 9,
   "outputs": [
    {
     "name": "stdout",
     "output_type": "stream",
     "text": [
      "init\n"
     ]
    },
    {
     "ename": "NameError",
     "evalue": "name 'smaller_train_data' is not defined",
     "output_type": "error",
     "traceback": [
      "\u001B[0;31m---------------------------------------------------------------------------\u001B[0m",
      "\u001B[0;31mNameError\u001B[0m                                 Traceback (most recent call last)",
      "Cell \u001B[0;32mIn[9], line 1\u001B[0m\n\u001B[0;32m----> 1\u001B[0m FastAIRecommender()\u001B[38;5;241m.\u001B[39mfit(\u001B[43msmaller_train_data\u001B[49m)\n",
      "\u001B[0;31mNameError\u001B[0m: name 'smaller_train_data' is not defined"
     ]
    }
   ],
   "source": [
    "# FastAIRecommender().fit(smaller_train_data)"
   ],
   "metadata": {
    "collapsed": false,
    "ExecuteTime": {
     "end_time": "2024-05-13T10:38:55.081904Z",
     "start_time": "2024-05-13T10:38:54.834425Z"
    }
   },
   "id": "22a1633f915ead09"
  },
  {
   "cell_type": "code",
   "execution_count": 10,
   "outputs": [
    {
     "name": "stdout",
     "output_type": "stream",
     "text": [
      "Train len:  500000\n",
      "0\n",
      "100000\n",
      "200000\n",
      "300000\n",
      "400000\n",
      "Output len:  500000\n"
     ]
    }
   ],
   "source": [
    "def transform_train_data_to_session_sequences(train_data):\n",
    "    output = []\n",
    "    print(\"Train len: \", len(train_data))\n",
    "    i = 0\n",
    "    for row in train_data.iter_rows():\n",
    "        if i % 100000 == 0:\n",
    "            print(i)\n",
    "        row_output = []\n",
    "        events = row[1]\n",
    "        for event in events:\n",
    "            row_output.append(event[\"aid\"])\n",
    "        output.append(row_output)\n",
    "        i += 1\n",
    "    print(\"Output len: \", len(output))\n",
    "    return output\n",
    "\n",
    "sessions = transform_train_data_to_session_sequences(train_data[:500000])"
   ],
   "metadata": {
    "collapsed": false,
    "ExecuteTime": {
     "end_time": "2024-05-13T10:40:06.170080Z",
     "start_time": "2024-05-13T10:39:52.128145Z"
    }
   },
   "id": "84cb2b4244a9768a"
  },
  {
   "cell_type": "code",
   "outputs": [
    {
     "data": {
      "text/plain": "<IPython.core.display.HTML object>",
      "text/html": "<table border=\"1\" class=\"dataframe\">\n  <thead>\n    <tr style=\"text-align: right;\">\n      <th></th>\n      <th>session</th>\n      <th>aid</th>\n      <th>rating</th>\n    </tr>\n  </thead>\n  <tbody>\n    <tr>\n      <th>0</th>\n      <td>2296652</td>\n      <td>956575.0</td>\n      <td>1</td>\n    </tr>\n    <tr>\n      <th>1</th>\n      <td>8167590</td>\n      <td>1672727.0</td>\n      <td>1</td>\n    </tr>\n    <tr>\n      <th>2</th>\n      <td>7498558</td>\n      <td>516731.0</td>\n      <td>1</td>\n    </tr>\n    <tr>\n      <th>3</th>\n      <td>3358924</td>\n      <td>1849337.0</td>\n      <td>1</td>\n    </tr>\n    <tr>\n      <th>4</th>\n      <td>7542339</td>\n      <td>577962.0</td>\n      <td>1</td>\n    </tr>\n    <tr>\n      <th>5</th>\n      <td>5906856</td>\n      <td>1131757.0</td>\n      <td>1</td>\n    </tr>\n    <tr>\n      <th>6</th>\n      <td>3251307</td>\n      <td>265336.0</td>\n      <td>1</td>\n    </tr>\n    <tr>\n      <th>7</th>\n      <td>5065716</td>\n      <td>460553.0</td>\n      <td>1</td>\n    </tr>\n    <tr>\n      <th>8</th>\n      <td>4244107</td>\n      <td>1579175.0</td>\n      <td>1</td>\n    </tr>\n    <tr>\n      <th>9</th>\n      <td>3707990</td>\n      <td>#na#</td>\n      <td>1</td>\n    </tr>\n  </tbody>\n</table>"
     },
     "metadata": {},
     "output_type": "display_data"
    },
    {
     "data": {
      "text/plain": "<IPython.core.display.HTML object>",
      "text/html": "\n<style>\n    /* Turns off some styling */\n    progress {\n        /* gets rid of default border in Firefox and Opera. */\n        border: none;\n        /* Needs to be in here for Safari polyfill so background images work as expected. */\n        background-size: auto;\n    }\n    progress:not([value]), progress:not([value])::-webkit-progress-bar {\n        background: repeating-linear-gradient(45deg, #7e7e7e, #7e7e7e 10px, #5c5c5c 10px, #5c5c5c 20px);\n    }\n    .progress-bar-interrupted, .progress-bar-interrupted::-webkit-progress-bar {\n        background: #F44336;\n    }\n</style>\n"
     },
     "metadata": {},
     "output_type": "display_data"
    },
    {
     "data": {
      "text/plain": "<IPython.core.display.HTML object>",
      "text/html": "<table border=\"1\" class=\"dataframe\">\n  <thead>\n    <tr style=\"text-align: left;\">\n      <th>epoch</th>\n      <th>train_loss</th>\n      <th>valid_loss</th>\n      <th>time</th>\n    </tr>\n  </thead>\n  <tbody>\n    <tr>\n      <td>0</td>\n      <td>0.988495</td>\n      <td>0.979620</td>\n      <td>00:01</td>\n    </tr>\n    <tr>\n      <td>1</td>\n      <td>0.922574</td>\n      <td>0.842664</td>\n      <td>00:01</td>\n    </tr>\n    <tr>\n      <td>2</td>\n      <td>0.777482</td>\n      <td>0.607599</td>\n      <td>00:01</td>\n    </tr>\n    <tr>\n      <td>3</td>\n      <td>0.588488</td>\n      <td>0.379510</td>\n      <td>00:01</td>\n    </tr>\n    <tr>\n      <td>4</td>\n      <td>0.414778</td>\n      <td>0.233480</td>\n      <td>00:01</td>\n    </tr>\n    <tr>\n      <td>5</td>\n      <td>0.285737</td>\n      <td>0.161146</td>\n      <td>00:01</td>\n    </tr>\n    <tr>\n      <td>6</td>\n      <td>0.198007</td>\n      <td>0.118486</td>\n      <td>00:01</td>\n    </tr>\n    <tr>\n      <td>7</td>\n      <td>0.139997</td>\n      <td>0.089901</td>\n      <td>00:01</td>\n    </tr>\n    <tr>\n      <td>8</td>\n      <td>0.102577</td>\n      <td>0.071675</td>\n      <td>00:01</td>\n    </tr>\n    <tr>\n      <td>9</td>\n      <td>0.078905</td>\n      <td>0.060241</td>\n      <td>00:01</td>\n    </tr>\n    <tr>\n      <td>10</td>\n      <td>0.064295</td>\n      <td>0.053188</td>\n      <td>00:01</td>\n    </tr>\n    <tr>\n      <td>11</td>\n      <td>0.055686</td>\n      <td>0.049129</td>\n      <td>00:01</td>\n    </tr>\n    <tr>\n      <td>12</td>\n      <td>0.051089</td>\n      <td>0.047078</td>\n      <td>00:01</td>\n    </tr>\n    <tr>\n      <td>13</td>\n      <td>0.049111</td>\n      <td>0.046312</td>\n      <td>00:01</td>\n    </tr>\n    <tr>\n      <td>14</td>\n      <td>0.048623</td>\n      <td>0.046196</td>\n      <td>00:01</td>\n    </tr>\n  </tbody>\n</table>"
     },
     "metadata": {},
     "output_type": "display_data"
    }
   ],
   "source": [
    "smaller_train = train_data.head(1000)\n",
    "data = smaller_train.explode( \"events\" ).unnest( \"events\" )\n",
    "data = data.to_pandas()\n",
    "data = data.drop(columns=[\"ts\", \"type\"])\n",
    "data[\"rating\"] = 1\n",
    "dls = CollabDataLoaders.from_df(data, user_name='session', item_name='aid', bs=64, shuffle=False)\n",
    "dls.show_batch()\n",
    "\n",
    "learn = collab_learner(dls, n_factors=10)\n",
    "learn.fit_one_cycle(5)\n",
    "\n"
   ],
   "metadata": {
    "collapsed": false,
    "ExecuteTime": {
     "end_time": "2024-05-13T10:47:55.884690Z",
     "start_time": "2024-05-13T10:47:31.125905Z"
    }
   },
   "id": "aab7396721dc6c7f",
   "execution_count": 19
  },
  {
   "cell_type": "code",
   "outputs": [
    {
     "name": "stdout",
     "output_type": "stream",
     "text": [
      "EmbeddingDotBias(\n",
      "  (u_weight): Embedding(1001, 10)\n",
      "  (i_weight): Embedding(9339, 10)\n",
      "  (u_bias): Embedding(1001, 1)\n",
      "  (i_bias): Embedding(9339, 1)\n",
      ")\n",
      "<fastai.learner.Learner object at 0x7ddbf39d95d0>\n",
      "<class 'fastai.learner.Learner'>\n"
     ]
    }
   ],
   "source": [
    "print(learn.model)\n",
    "print(learn)\n",
    "print(type(learn))"
   ],
   "metadata": {
    "collapsed": false,
    "ExecuteTime": {
     "end_time": "2024-05-13T10:42:12.619095Z",
     "start_time": "2024-05-13T10:42:12.615356Z"
    }
   },
   "id": "b41d7999d2bff39a",
   "execution_count": 13
  },
  {
   "cell_type": "code",
   "outputs": [],
   "source": [],
   "metadata": {
    "collapsed": false
   },
   "id": "aa21758aa36646d3"
  }
 ],
 "metadata": {
  "kernelspec": {
   "display_name": "Python 3",
   "language": "python",
   "name": "python3"
  },
  "language_info": {
   "codemirror_mode": {
    "name": "ipython",
    "version": 2
   },
   "file_extension": ".py",
   "mimetype": "text/x-python",
   "name": "python",
   "nbconvert_exporter": "python",
   "pygments_lexer": "ipython2",
   "version": "2.7.6"
  }
 },
 "nbformat": 4,
 "nbformat_minor": 5
}
